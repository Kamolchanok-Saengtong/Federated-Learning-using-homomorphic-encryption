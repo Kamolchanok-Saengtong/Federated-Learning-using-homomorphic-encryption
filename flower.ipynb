{
 "cells": [
  {
   "attachments": {},
   "cell_type": "markdown",
   "metadata": {},
   "source": [
    "Welcome to the 30 minutes Flower federated learning tutorial!\n",
    "\n",
    "In this tutorial you will implement your first Federated Learning project using [Flower](https://flower.ai/). You can find a similar tutorial, but using the preferred `flwr run` CLI command to launch your experiments in [the Flower Documentation](https://flower.ai/docs/framework/tutorial-quickstart-pytorch.html).\n",
    "\n",
    "🧑‍🏫 This tutorial starts at zero and expects no familiarity with federated learning. Only a basic understanding of data science and Python programming is assumed. A minimal understanding of ML is not required but if you already know about it, nothing is stopping your from modifying this code as you see fit!\n",
    "\n",
    "> [Star Flower on GitHub](https://github.com/adap/flower) ⭐️ and join the Flower community on Flower Discuss and the Flower Slack to connect, ask questions, and get help:\n",
    "> - [Join Flower Discuss](https://discuss.flower.ai/) We'd love to hear from you in the `Introduction` topic! If anything is unclear, post in `Flower Help - Beginners`.\n",
    "> - [Join Flower Slack](https://flower.ai/join-slack) We'd love to hear from you in the `#introductions` channel! If anything is unclear, head over to the `#questions` channel.\n",
    "\n",
    "Let's get started!"
   ]
  },
  {
   "attachments": {},
   "cell_type": "markdown",
   "metadata": {},
   "source": [
    "# Environment Setup\n",
    "\n",
    "Now let's really begin with this tutorial!\n",
    "\n",
    "To start working with Flower, very little is required once you have activated your Python environment (e.g. via `conda`, `virtualenv`, `pyenv`, etc). If you are running this code on Colab, there is really nothing to do except to install Flower and other dependencies. The steps below have been verified to run in Colab. Let's first, install Flower, then the ML framework of your choice and extra dependencies you might want to use.\n",
    "\n",
    "## Installing Flower\n",
    "\n",
    "You can install flower very conveniently from `pip`:"
   ]
  },
  {
   "cell_type": "code",
   "execution_count": 13,
   "metadata": {},
   "outputs": [],
   "source": [
    "!pip install -q \"flwr[simulation]\" flwr-datasets"
   ]
  },
  {
   "attachments": {},
   "cell_type": "markdown",
   "metadata": {},
   "source": [
    "We will be using the _simulation_ engine in Flower, which allows you to run a large number of clients without the overheads of manually managing devices. This is achieved via the `Simulation Engine`, the core component in Flower to run simulations efficiently."
   ]
  },
  {
   "attachments": {},
   "cell_type": "markdown",
   "metadata": {},
   "source": [
    "## Install your ML framework\n",
    "\n",
    "Flower is agnostic to your choice of ML Framework. Flower works with `PyTorch`, `Tensorflow`, `NumPy`, `🤗 Transformers`, `MLX`, `JAX`, `scikit-learn`, `fastai`, `Pandas`. Flower also supports all major platforms: `iOS`, `Android` and plain `C++`. You can find a _quickstart- example for each of the above in the [Flower Repository](https://github.com/adap/flower/tree/main/examples) inside the `examples/` directory. And check the [Flower Documentation](https://flower.ai/docs/) for even more learning materials.\n",
    "\n",
    "In this tutorial we are going to use PyTorch, uncomment the line below if you haven't installed PyTorch in your system. In this tutorial we'll use a small model so using CPU only training will suffice."
   ]
  },
  {
   "cell_type": "code",
   "execution_count": 14,
   "metadata": {
    "colab": {
     "base_uri": "https://localhost:8080/"
    },
    "outputId": "7192138a-8c87-4d9a-f726-af1038ad264c"
   },
   "outputs": [],
   "source": [
    "# you might see a warning after running the command below, this can be ignored\n",
    "# if you are running this outside Colab, you probably need to adjust the command below\n",
    "# !pip install torch==1.13.1+cpu torchvision==0.14.1+cpu --extra-index-url https://download.pytorch.org/whl/cpu"
   ]
  },
  {
   "attachments": {},
   "cell_type": "markdown",
   "metadata": {},
   "source": [
    "We are going to install some other dependencies you are likely familiar with. We'll use these to make plots."
   ]
  },
  {
   "cell_type": "code",
   "execution_count": 15,
   "metadata": {
    "colab": {
     "base_uri": "https://localhost:8080/"
    },
    "outputId": "58b7af77-609f-4118-bd5b-5629a4b5a296"
   },
   "outputs": [
    {
     "name": "stdout",
     "output_type": "stream",
     "text": [
      "Requirement already satisfied: matplotlib in ./.venv/lib/python3.9/site-packages (3.9.4)\n",
      "Requirement already satisfied: contourpy>=1.0.1 in ./.venv/lib/python3.9/site-packages (from matplotlib) (1.3.0)\n",
      "Requirement already satisfied: cycler>=0.10 in ./.venv/lib/python3.9/site-packages (from matplotlib) (0.12.1)\n",
      "Requirement already satisfied: fonttools>=4.22.0 in ./.venv/lib/python3.9/site-packages (from matplotlib) (4.58.0)\n",
      "Requirement already satisfied: kiwisolver>=1.3.1 in ./.venv/lib/python3.9/site-packages (from matplotlib) (1.4.7)\n",
      "Requirement already satisfied: numpy>=1.23 in ./.venv/lib/python3.9/site-packages (from matplotlib) (2.0.2)\n",
      "Requirement already satisfied: packaging>=20.0 in ./.venv/lib/python3.9/site-packages (from matplotlib) (25.0)\n",
      "Requirement already satisfied: pillow>=8 in ./.venv/lib/python3.9/site-packages (from matplotlib) (11.2.1)\n",
      "Requirement already satisfied: pyparsing>=2.3.1 in ./.venv/lib/python3.9/site-packages (from matplotlib) (3.2.3)\n",
      "Requirement already satisfied: python-dateutil>=2.7 in ./.venv/lib/python3.9/site-packages (from matplotlib) (2.9.0.post0)\n",
      "Requirement already satisfied: importlib-resources>=3.2.0 in ./.venv/lib/python3.9/site-packages (from matplotlib) (6.5.2)\n",
      "Requirement already satisfied: zipp>=3.1.0 in ./.venv/lib/python3.9/site-packages (from importlib-resources>=3.2.0->matplotlib) (3.21.0)\n",
      "Requirement already satisfied: six>=1.5 in ./.venv/lib/python3.9/site-packages (from python-dateutil>=2.7->matplotlib) (1.17.0)\n"
     ]
    }
   ],
   "source": [
    "!pip install matplotlib"
   ]
  },
  {
   "attachments": {},
   "cell_type": "markdown",
   "metadata": {},
   "source": [
    "# Centralised training: the old way of doing ML"
   ]
  },
  {
   "attachments": {},
   "cell_type": "markdown",
   "metadata": {},
   "source": [
    "Let's begin by creating a simple (but complete) training loop as it is commonly done in centralised setups. Starting our tutorial in this way will allow us to very clearly identify which parts of a typical ML pipeline are common to both centralised and federated training and which ones are poles a part.\n",
    "\n",
    "For this tutorial we'll design a image classification pipeline for [MNIST digits](https://en.wikipedia.org/wiki/MNIST_database) and using a simple CNN model as the network to train. The MNIST dataset is comprised of `28x28` greyscale images with digits from 0 to 9 (i.e. 10 classes in total)\n",
    "\n",
    "\n",
    "## A dataset\n",
    "\n",
    "Let's begin by constructing the dataset. We will use 🤗HuggingFace Datasets to download MNIST. We will prepare a function that will be use later to apply standard normalization transformations from `TorchVision` and create the dataloaders for the `train` and `test` partitions."
   ]
  },
  {
   "cell_type": "code",
   "execution_count": 16,
   "metadata": {},
   "outputs": [],
   "source": [
    "# we naturally first need to import torch and torchvision\n",
    "import torch\n",
    "from torch.utils.data import DataLoader\n",
    "from torchvision.transforms import ToTensor, Normalize, Compose\n",
    "from datasets import load_dataset\n",
    "\n",
    "\n",
    "def get_mnist_dataloaders(mnist_dataset, batch_size: int):\n",
    "    pytorch_transforms = Compose([ToTensor(), Normalize((0.1307,), (0.3081,))])\n",
    "\n",
    "    # Prepare transformation functions\n",
    "    def apply_transforms(batch):\n",
    "        batch[\"image\"] = [pytorch_transforms(img) for img in batch[\"image\"]]\n",
    "        return batch\n",
    "\n",
    "    mnist_train = mnist_dataset[\"train\"].with_transform(apply_transforms)\n",
    "    mnist_test = mnist_dataset[\"test\"].with_transform(apply_transforms)\n",
    "\n",
    "    # Construct PyTorch dataloaders\n",
    "    trainloader = DataLoader(mnist_train, batch_size=batch_size, shuffle=True)\n",
    "    testloader = DataLoader(mnist_test, batch_size=batch_size)\n",
    "    return trainloader, testloader\n",
    "\n",
    "\n",
    "# Download dataset\n",
    "mnist = load_dataset(\"ylecun/mnist\")\n",
    "# mnist = load_dataset(\"fashion_mnist\")\n",
    "# mnist = load_dataset(\"ag_news\")\n"
   ]
  },
  {
   "attachments": {},
   "cell_type": "markdown",
   "metadata": {},
   "source": [
    "We can have a quick overview of our datasets by just typing the object on the command line. For instance, below you can see the sizes of both the `train` and `test` partitions"
   ]
  },
  {
   "cell_type": "code",
   "execution_count": 17,
   "metadata": {
    "colab": {
     "base_uri": "https://localhost:8080/"
    },
    "outputId": "f10b649f-3cee-4e86-c7ff-94bd1fd3e082"
   },
   "outputs": [
    {
     "data": {
      "text/plain": [
       "DatasetDict({\n",
       "    train: Dataset({\n",
       "        features: ['image', 'label'],\n",
       "        num_rows: 60000\n",
       "    })\n",
       "    test: Dataset({\n",
       "        features: ['image', 'label'],\n",
       "        num_rows: 10000\n",
       "    })\n",
       "})"
      ]
     },
     "execution_count": 17,
     "metadata": {},
     "output_type": "execute_result"
    }
   ],
   "source": [
    "mnist\n"
   ]
  },
  {
   "attachments": {},
   "cell_type": "markdown",
   "metadata": {},
   "source": [
    "Let's create a more insightful visualisation. First let's see the distribution over the labels by constructing a histogram. Then, let's visualise some training examples !"
   ]
  },
  {
   "cell_type": "code",
   "execution_count": 18,
   "metadata": {
    "colab": {
     "base_uri": "https://localhost:8080/",
     "height": 490
    },
    "outputId": "c8d0f4c0-60cd-4c58-bc91-3b061dae8046"
   },
   "outputs": [
    {
     "data": {
      "image/png": "[encoded data removed]",
      "text/plain": [
       "<Figure size 640x480 with 1 Axes>"
      ]
     },
     "metadata": {},
     "output_type": "display_data"
    }
   ],
   "source": [
    "import matplotlib.pyplot as plt\n",
    "from collections import Counter\n",
    "\n",
    "\n",
    "# construct histogram\n",
    "all_labels = mnist[\"train\"][\"label\"]\n",
    "all_label_counts = Counter(all_labels)\n",
    "\n",
    "# visualise histogram\n",
    "bar = plt.bar(all_label_counts.keys(), all_label_counts.values())\n",
    "_ = plt.bar_label(bar)\n",
    "\n",
    "# plot formatting\n",
    "_ = plt.xticks([label for label in all_label_counts.keys()])"
   ]
  },
  {
   "attachments": {},
   "cell_type": "markdown",
   "metadata": {},
   "source": [
    "Let's visualise 32 images from the dataset\n"
   ]
  },
  {
   "cell_type": "code",
   "execution_count": 19,
   "metadata": {},
   "outputs": [],
   "source": [
    "import random\n",
    "import numpy as np\n",
    "from PIL import Image\n",
    "import io\n",
    "\n",
    "\n",
    "def visualise_n_random_examples(trainset_, n: int, verbose: bool = True):\n",
    "    trainset_data = [\n",
    "        Image.open(io.BytesIO(entry[0].as_py())) for entry in trainset_.data[0]\n",
    "    ]\n",
    "    idx = list(range(len(trainset_data)))\n",
    "    random.shuffle(idx)\n",
    "    idx = idx[:n]\n",
    "    if verbose:\n",
    "        print(f\"will display images with idx: {idx}\")\n",
    "\n",
    "    # construct canvas\n",
    "    num_cols = 8\n",
    "    num_rows = int(np.ceil(len(idx) / num_cols))\n",
    "    fig, axs = plt.subplots(figsize=(16, num_rows * 2), nrows=num_rows, ncols=num_cols)\n",
    "\n",
    "    # display images on canvas\n",
    "    for c_i, i in enumerate(idx):\n",
    "        axs.flat[c_i].imshow(trainset_data[i], cmap=\"gray\")"
   ]
  },
  {
   "cell_type": "code",
   "execution_count": 20,
   "metadata": {
    "colab": {
     "base_uri": "https://localhost:8080/",
     "height": 715
    },
    "outputId": "4e0988a8-388d-4acf-882b-089e4ea887bf"
   },
   "outputs": [
    {
     "name": "stdout",
     "output_type": "stream",
     "text": [
      "will display images with idx: [37938, 41049, 41687, 55754, 57606, 36987, 2988, 26390, 48467, 3853, 10281, 56938, 17887, 9494, 5672, 14609, 17287, 27654, 41652, 23979, 3323, 41091, 35607, 1025, 31313, 25198, 47632, 28447, 42782, 2214, 14769, 23567]\n"
     ]
    },
    {
     "data": {
      "image/png": "[encoded data removed]",
      "text/plain": [
       "<Figure size 1600x800 with 32 Axes>"
      ]
     },
     "metadata": {},
     "output_type": "display_data"
    }
   ],
   "source": [
    "# it is likely that the plot this function will generate looks familiar to other plots you might have generated before\n",
    "# or you might have encountered in other tutorials. So far, we aren't doing anything new, Federated Learning will start soon!\n",
    "visualise_n_random_examples(mnist[\"train\"], n=32)\n",
    "\n"
   ]
  },
  {
   "attachments": {},
   "cell_type": "markdown",
   "metadata": {},
   "source": [
    "# A CNN architecture\n",
    "\n",
    "This tutorial is not so much about novel architectural designs so we keep things simple and make use of a typical CNN that is adequate for the MNIST image classification task.\n",
    "\n"
   ]
  },
  {
   "cell_type": "code",
   "execution_count": 21,
   "metadata": {},
   "outputs": [],
   "source": [
    "import torch.nn as nn\n",
    "import torch.nn.functional as F\n",
    "\n",
    "\n",
    "class Net(nn.Module):\n",
    "    def __init__(self, num_classes: int) -> None:\n",
    "        super(Net, self).__init__()\n",
    "        self.conv1 = nn.Conv2d(1, 6, 5)\n",
    "        self.pool = nn.MaxPool2d(2, 2)\n",
    "        self.conv2 = nn.Conv2d(6, 16, 5)\n",
    "        self.fc1 = nn.Linear(16 * 4 * 4, 120)\n",
    "        self.fc2 = nn.Linear(120, 84)\n",
    "        self.fc3 = nn.Linear(84, num_classes)\n",
    "\n",
    "    def forward(self, x: torch.Tensor) -> torch.Tensor:\n",
    "        x = self.pool(F.relu(self.conv1(x)))\n",
    "        x = self.pool(F.relu(self.conv2(x)))\n",
    "        x = x.view(-1, 16 * 4 * 4)\n",
    "        x = F.relu(self.fc1(x))\n",
    "        x = F.relu(self.fc2(x))\n",
    "        x = self.fc3(x)\n",
    "        return x"
   ]
  },
  {
   "attachments": {},
   "cell_type": "markdown",
   "metadata": {},
   "source": [
    "Similarly to what we did with the dataset you could inspect the model in various ways. We can, for instance, count the number of model parameters."
   ]
  },
  {
   "cell_type": "markdown",
   "metadata": {},
   "source": [
    "#### initialize the weight randomly (i think?)"
   ]
  },
  {
   "cell_type": "code",
   "execution_count": 22,
   "metadata": {
    "colab": {
     "base_uri": "https://localhost:8080/"
    },
    "outputId": "67d01ab4-cdd9-4661-8f01-eaa9aabf786d"
   },
   "outputs": [
    {
     "name": "stdout",
     "output_type": "stream",
     "text": [
      "num_parameters = 44426\n",
      "conv1.weight:\n",
      "tensor([[[[-0.1947,  0.0262,  0.0752, -0.1605,  0.1501],\n",
      "          [-0.1188, -0.1750, -0.0945,  0.0769,  0.0460],\n",
      "          [ 0.0041, -0.1437,  0.0733, -0.1488, -0.0179],\n",
      "          [ 0.0567,  0.1060,  0.0453, -0.0090, -0.0542],\n",
      "          [ 0.0159,  0.0450,  0.0334,  0.0773,  0.1458]]],\n",
      "\n",
      "\n",
      "        [[[-0.0759,  0.1728, -0.1348,  0.0161,  0.1796],\n",
      "          [-0.0737, -0.1600,  0.1292,  0.1318, -0.0958],\n",
      "          [-0.0702, -0.1471, -0.1795,  0.1648,  0.0742],\n",
      "          [ 0.1326,  0.1126, -0.0594, -0.0018,  0.1701],\n",
      "          [-0.1051,  0.1380,  0.0379, -0.1878, -0.1513]]],\n",
      "\n",
      "\n",
      "        [[[ 0.0323, -0.0107,  0.1123,  0.1317,  0.0120],\n",
      "          [-0.1120, -0.0518,  0.1781, -0.0134, -0.0571],\n",
      "          [ 0.1754,  0.1387, -0.1241,  0.1407, -0.0739],\n",
      "          [-0.1591,  0.0031,  0.1711, -0.1314,  0.1288],\n",
      "          [-0.1731,  0.1156,  0.0767,  0.1003, -0.0020]]],\n",
      "\n",
      "\n",
      "        [[[-0.0782,  0.1916,  0.0267,  0.1463,  0.0552],\n",
      "          [ 0.1099,  0.0778, -0.1029,  0.0346, -0.1230],\n",
      "          [-0.1910,  0.1106,  0.0715, -0.0559, -0.1624],\n",
      "          [ 0.1026,  0.1350,  0.0529,  0.1664, -0.1007],\n",
      "          [ 0.1192, -0.1786, -0.1083, -0.1246,  0.1722]]],\n",
      "\n",
      "\n",
      "        [[[ 0.0546,  0.1964, -0.0103,  0.0763,  0.0582],\n",
      "          [ 0.0276, -0.1312,  0.0085, -0.1569,  0.1914],\n",
      "          [-0.1420, -0.0305, -0.0740,  0.0731, -0.1346],\n",
      "          [ 0.0771, -0.1186, -0.0344,  0.1088, -0.0639],\n",
      "          [ 0.1728, -0.0631, -0.0645, -0.1790,  0.1619]]],\n",
      "\n",
      "\n",
      "        [[[-0.0083,  0.1305,  0.0436,  0.1169,  0.1134],\n",
      "          [ 0.1843,  0.1563,  0.1596, -0.1083,  0.0965],\n",
      "          [ 0.0640,  0.1138, -0.1803, -0.0390,  0.0301],\n",
      "          [-0.0253,  0.0560, -0.1139,  0.0884, -0.1889],\n",
      "          [-0.1838,  0.0177,  0.1360, -0.1430,  0.1178]]]])\n",
      "conv1.bias:\n",
      "tensor([-1.0952e-01, -1.8856e-01, -1.5148e-01, -1.7653e-04,  1.7650e-01,\n",
      "         6.0993e-02])\n",
      "conv2.weight:\n",
      "tensor([[[[-5.5567e-02,  4.8971e-03, -4.1991e-02, -7.3302e-02, -1.4430e-02],\n",
      "          [-5.5603e-02,  1.9701e-02,  3.9309e-02,  6.5129e-02,  4.9389e-03],\n",
      "          [ 3.8288e-02,  3.6807e-02,  2.8591e-02, -1.2932e-03,  2.1386e-02],\n",
      "          [-1.8794e-02,  2.9400e-02,  5.5597e-02, -6.1232e-02,  7.6640e-02],\n",
      "          [-1.4952e-02,  7.2105e-02, -6.4341e-02,  4.7715e-02, -1.3962e-02]],\n",
      "\n",
      "         [[-4.3936e-03,  7.4624e-03,  5.6901e-02, -3.1684e-02,  3.4729e-02],\n",
      "          [ 7.5325e-02,  6.6609e-02,  6.9011e-02,  4.9642e-02, -5.6102e-02],\n",
      "          [ 6.3643e-02,  2.1713e-02, -2.4267e-02,  5.1569e-02, -2.9946e-02],\n",
      "          [ 5.0842e-02, -5.1829e-02, -6.9437e-02,  2.0920e-02,  5.4660e-02],\n",
      "          [ 4.1850e-02,  3.8565e-02, -3.3958e-02, -3.7179e-02,  4.2141e-02]],\n",
      "\n",
      "         [[-5.1321e-02, -5.5515e-02, -5.7040e-02,  1.9342e-02, -3.7461e-02],\n",
      "          [ 2.2744e-02,  4.8063e-03, -1.6544e-02,  7.7431e-02, -7.7720e-02],\n",
      "          [ 6.6720e-02, -7.2546e-02,  1.3408e-02,  6.6784e-02,  1.7803e-02],\n",
      "          [-3.0765e-02,  2.4190e-02, -2.6176e-03,  6.4975e-02,  1.6224e-02],\n",
      "          [ 2.2178e-04,  5.9250e-02, -7.9895e-02,  6.6570e-02,  6.7521e-02]],\n",
      "\n",
      "         [[-2.1795e-02, -3.3809e-02,  2.5739e-02, -2.7375e-03, -4.2086e-03],\n",
      "          [ 1.7214e-02, -4.4130e-02,  1.6977e-02, -2.7632e-02, -7.8289e-02],\n",
      "          [-2.4842e-02, -3.3148e-03, -3.2406e-02,  7.6548e-02, -8.1418e-02],\n",
      "          [-5.8537e-02, -3.0085e-02,  4.5410e-02,  5.6226e-02,  1.1069e-02],\n",
      "          [-3.0666e-02,  7.8057e-02,  6.5175e-03, -2.0944e-02, -8.0386e-02]],\n",
      "\n",
      "         [[ 4.6405e-02, -2.1230e-02, -4.8909e-02, -1.3481e-02, -1.9409e-03],\n",
      "          [ 6.6233e-02, -5.6038e-02, -6.8971e-02, -7.0563e-02,  3.7445e-02],\n",
      "          [-8.1356e-02, -7.2078e-02,  1.9892e-02,  2.3282e-02, -6.0984e-02],\n",
      "          [ 3.8739e-03,  1.4108e-02, -2.6213e-02, -2.4000e-02, -6.9079e-02],\n",
      "          [-1.6575e-02,  7.5321e-02,  5.8282e-02,  6.3508e-02,  6.9710e-02]],\n",
      "\n",
      "         [[ 4.6528e-03, -5.1041e-03, -5.7774e-02,  7.3411e-02,  7.4260e-02],\n",
      "          [-2.3165e-02, -3.9883e-02,  3.9017e-02,  5.2938e-02, -4.5540e-02],\n",
      "          [ 3.6574e-02,  4.3210e-02,  8.0069e-03,  4.1877e-02, -3.7384e-02],\n",
      "          [-1.9257e-02, -1.7234e-03, -1.8882e-03, -2.6464e-02,  1.8712e-02],\n",
      "          [-2.5187e-02,  7.9754e-02, -2.4356e-03,  3.9132e-02, -5.1576e-02]]],\n",
      "\n",
      "\n",
      "        [[[-6.8485e-02,  4.4123e-02,  4.8385e-03, -6.6119e-02, -1.4697e-03],\n",
      "          [-2.4305e-02,  6.7909e-03, -4.8190e-03, -1.5125e-02,  4.1222e-02],\n",
      "          [ 2.0402e-03,  7.8108e-02,  2.5916e-02, -7.9128e-02,  6.0599e-02],\n",
      "          [-2.6987e-02, -9.9791e-03, -7.2308e-02, -2.0551e-02, -1.1836e-02],\n",
      "          [ 4.7695e-02, -7.9057e-02,  4.4973e-02, -4.7354e-02,  4.2798e-02]],\n",
      "\n",
      "         [[ 4.0995e-02, -4.9664e-02, -2.8960e-02, -5.6256e-02, -2.4981e-02],\n",
      "          [ 6.3775e-02,  2.8551e-02, -3.6048e-02, -5.4105e-02,  3.4601e-02],\n",
      "          [ 6.9021e-02, -3.7582e-02, -3.4047e-02, -3.7751e-02, -6.8709e-02],\n",
      "          [-7.2781e-02, -5.7920e-02, -3.2704e-02,  3.3936e-02,  1.1268e-02],\n",
      "          [-3.2423e-02, -5.2121e-02,  3.1546e-02,  1.5071e-02,  3.5280e-02]],\n",
      "\n",
      "         [[ 4.3191e-02, -3.1963e-02,  3.7028e-02, -8.1098e-02,  7.3158e-02],\n",
      "          [ 9.9796e-03, -1.0733e-02, -1.9235e-02, -5.9263e-02, -3.6433e-02],\n",
      "          [-1.5512e-02,  8.1614e-02, -1.0413e-03, -7.4746e-02, -2.4977e-02],\n",
      "          [ 8.0841e-02, -4.2727e-02, -3.5464e-02, -2.3603e-02, -2.2617e-02],\n",
      "          [-2.0587e-02,  8.1046e-02,  2.5975e-02, -5.1531e-03,  5.9414e-02]],\n",
      "\n",
      "         [[ 6.4203e-02,  5.4642e-02, -2.7093e-02, -5.0877e-02,  6.2985e-02],\n",
      "          [ 3.1721e-02,  5.1301e-02,  2.1720e-02,  7.4614e-02, -5.7572e-02],\n",
      "          [-1.2531e-02, -6.6314e-03,  3.7797e-03,  4.3000e-02, -2.7755e-02],\n",
      "          [ 6.2323e-02, -4.9636e-03,  6.3792e-02,  5.4209e-02, -3.5088e-02],\n",
      "          [-7.5856e-02, -5.0191e-02, -6.9079e-02,  1.8533e-02, -6.7005e-02]],\n",
      "\n",
      "         [[ 5.4266e-02, -8.7277e-03, -1.8235e-02, -6.3576e-02, -1.9991e-03],\n",
      "          [ 5.7998e-02,  4.6425e-02,  5.9533e-02,  3.9578e-02,  2.8929e-03],\n",
      "          [ 8.0645e-02,  4.2204e-02,  2.3212e-02,  7.7048e-04, -3.1820e-02],\n",
      "          [ 5.3105e-03,  6.9956e-02, -3.6113e-02,  7.1809e-02, -5.9126e-02],\n",
      "          [ 3.2945e-02, -3.9969e-02,  5.5849e-02, -6.3967e-02, -7.0008e-02]],\n",
      "\n",
      "         [[ 5.5252e-02, -7.2157e-02, -1.6680e-02, -5.7272e-04, -2.6201e-02],\n",
      "          [-4.1340e-02, -6.0824e-02,  5.7936e-02, -5.0587e-02,  2.7898e-03],\n",
      "          [ 4.5320e-02, -5.8457e-02,  5.7221e-02,  5.8992e-02, -7.1656e-02],\n",
      "          [ 3.3218e-03,  3.5909e-02, -4.3391e-02,  3.8818e-02,  6.4853e-02],\n",
      "          [ 7.5934e-02,  5.6021e-02, -4.4674e-02, -7.6262e-02, -6.8033e-02]]],\n",
      "\n",
      "\n",
      "        [[[-3.2099e-02, -7.9282e-02, -8.4066e-03,  2.3891e-02,  4.2608e-02],\n",
      "          [-7.2291e-02, -2.3759e-02, -7.1515e-03, -6.4008e-02, -5.1530e-02],\n",
      "          [ 3.1117e-02, -6.1349e-02, -5.8656e-02, -1.3064e-02,  6.9979e-02],\n",
      "          [-1.7481e-02,  7.7057e-02, -3.6119e-02,  2.8937e-02,  6.2186e-02],\n",
      "          [-2.8539e-02,  5.8485e-02,  4.9158e-02,  3.0143e-04,  2.0399e-02]],\n",
      "\n",
      "         [[-6.8156e-02, -3.7686e-02,  6.3249e-02,  6.2663e-02, -4.8147e-02],\n",
      "          [-2.9767e-02,  2.8104e-02, -4.7103e-03,  5.3868e-02,  5.6153e-02],\n",
      "          [ 4.2814e-02, -3.0920e-02,  6.4863e-02,  6.5796e-02,  5.1670e-02],\n",
      "          [-3.9713e-02,  1.2076e-02,  7.4036e-02, -5.2588e-02, -4.1516e-02],\n",
      "          [-5.1153e-02,  7.3787e-02,  1.1984e-02,  6.4795e-02, -6.1596e-02]],\n",
      "\n",
      "         [[ 5.8339e-02, -6.7267e-02,  7.9180e-02, -2.1198e-02, -2.1052e-02],\n",
      "          [ 4.6357e-02, -1.0132e-02, -6.4980e-02,  4.8388e-02, -4.4563e-02],\n",
      "          [-4.5945e-02,  6.8279e-02,  1.0455e-02,  3.7241e-03, -3.6797e-02],\n",
      "          [-4.2675e-02, -3.8109e-02,  7.3995e-02, -3.1109e-02,  6.8983e-02],\n",
      "          [-5.0759e-02,  8.0132e-02, -6.1690e-02, -1.8977e-02, -6.0340e-02]],\n",
      "\n",
      "         [[-4.3099e-02, -1.6477e-02, -4.0597e-02,  8.9730e-03, -7.8999e-02],\n",
      "          [-6.4672e-02, -6.5303e-02, -1.1107e-02, -1.5254e-02,  1.9784e-02],\n",
      "          [ 8.0202e-02,  5.5793e-03,  1.8753e-02,  1.2512e-02, -3.0356e-02],\n",
      "          [-2.7432e-02, -3.4832e-02, -6.4037e-03, -3.4323e-02, -6.2174e-03],\n",
      "          [ 2.4527e-02, -5.6369e-02, -1.2203e-02, -3.5625e-02,  4.6792e-02]],\n",
      "\n",
      "         [[ 6.0382e-02, -5.7206e-02, -4.4132e-02,  9.7792e-03,  7.0872e-02],\n",
      "          [-4.8663e-02,  2.8156e-02,  7.9584e-02, -1.5083e-02, -8.0469e-03],\n",
      "          [-5.6491e-02, -7.3473e-03,  2.2895e-03,  4.9606e-02, -7.9032e-02],\n",
      "          [ 3.9151e-02, -8.4525e-04,  7.3770e-03, -9.2630e-03,  7.5033e-02],\n",
      "          [-4.8212e-02, -6.3529e-02,  5.4182e-02,  5.6197e-02,  5.3440e-02]],\n",
      "\n",
      "         [[ 7.1559e-02, -2.1194e-02, -5.1882e-02, -4.3717e-02, -1.8860e-02],\n",
      "          [ 3.4384e-02, -6.6141e-02,  9.4704e-04,  6.6784e-02, -3.5913e-02],\n",
      "          [-4.2654e-02, -2.8004e-02, -4.9575e-02,  4.4046e-02,  5.5479e-02],\n",
      "          [-3.3605e-02,  5.9926e-02,  5.5911e-03,  2.9543e-02,  1.4512e-02],\n",
      "          [ 7.0851e-02, -4.7991e-03,  3.7763e-02, -4.0019e-02, -3.7929e-02]]],\n",
      "\n",
      "\n",
      "        ...,\n",
      "\n",
      "\n",
      "        [[[-6.9586e-02, -4.2106e-03,  1.2996e-02,  4.8210e-02, -2.3832e-02],\n",
      "          [-6.1872e-02,  6.4905e-02,  2.5702e-02, -1.7805e-02,  6.7143e-02],\n",
      "          [ 9.6561e-03,  1.9434e-02, -6.0519e-02, -1.5695e-02, -4.0270e-02],\n",
      "          [ 9.4361e-03, -7.6949e-02, -2.8038e-03,  1.7326e-03, -3.4141e-02],\n",
      "          [-3.9236e-02,  4.7985e-03, -7.0140e-02, -3.4208e-02,  2.8943e-02]],\n",
      "\n",
      "         [[-4.1017e-03, -4.0615e-02,  6.6169e-02, -4.1923e-02, -7.4874e-02],\n",
      "          [ 6.0266e-02,  5.7975e-02,  6.1831e-03,  6.2193e-02, -7.2780e-02],\n",
      "          [ 7.7769e-02, -2.1534e-02, -1.8525e-02,  2.8735e-02, -6.4031e-02],\n",
      "          [-6.4366e-02, -7.8317e-02, -6.3996e-02, -1.1267e-02,  4.0944e-02],\n",
      "          [-3.3077e-02, -4.3024e-02, -2.3782e-02,  1.3148e-02, -6.0141e-02]],\n",
      "\n",
      "         [[ 2.6174e-02,  2.9461e-02,  1.1302e-02, -3.4216e-02, -7.7936e-02],\n",
      "          [ 7.5407e-02,  1.3539e-02, -8.1149e-02,  1.3615e-02, -1.7624e-02],\n",
      "          [ 4.4884e-02, -4.7713e-02,  4.6069e-02, -3.9634e-02,  4.0668e-02],\n",
      "          [ 3.9916e-02, -1.3786e-03,  7.6449e-02, -6.8722e-02, -4.2577e-02],\n",
      "          [-4.1817e-02, -5.2922e-02, -4.3734e-03, -7.5402e-02,  1.7106e-02]],\n",
      "\n",
      "         [[ 3.2105e-02, -5.1889e-02,  5.6526e-02,  2.4313e-02, -3.4121e-02],\n",
      "          [-8.7922e-03, -3.6120e-02,  8.0966e-02,  5.8306e-02,  3.1632e-02],\n",
      "          [ 5.3161e-02, -6.6449e-02, -7.8932e-02, -5.1984e-02, -2.6110e-02],\n",
      "          [ 8.1052e-02,  6.9738e-02,  7.6665e-02, -3.2432e-03, -6.9736e-02],\n",
      "          [-6.1431e-02, -5.3931e-02,  2.5885e-02,  2.0495e-02, -6.2288e-02]],\n",
      "\n",
      "         [[-6.6173e-02,  5.4219e-02, -5.5219e-02, -3.3224e-02,  2.6602e-02],\n",
      "          [-8.0415e-02,  6.4618e-02, -4.4822e-02, -4.5956e-02, -4.5736e-02],\n",
      "          [-6.7996e-02,  7.4944e-02, -2.7779e-02,  5.6842e-02, -6.3698e-02],\n",
      "          [-1.6107e-02, -4.6109e-02,  4.5383e-02,  3.6353e-02, -7.5947e-02],\n",
      "          [-5.1020e-02, -3.7394e-03, -5.6630e-03,  1.7628e-02,  7.0767e-02]],\n",
      "\n",
      "         [[-5.3375e-02, -7.0984e-02,  1.9949e-02, -3.6399e-02,  3.1115e-02],\n",
      "          [-6.4332e-02, -7.6855e-02, -2.8460e-02,  4.7614e-03,  6.7523e-02],\n",
      "          [ 7.0463e-02,  1.6516e-02, -2.2669e-02, -1.5742e-02,  4.6376e-02],\n",
      "          [ 5.5253e-02,  4.3540e-02, -8.1567e-02, -8.0522e-03, -4.2306e-02],\n",
      "          [-6.9893e-02, -3.0992e-02, -8.7326e-03,  2.3286e-02, -4.7384e-04]]],\n",
      "\n",
      "\n",
      "        [[[-3.3326e-02, -2.1583e-02, -1.5904e-02, -3.9932e-02,  9.6870e-03],\n",
      "          [ 6.9428e-02, -6.4133e-02,  6.2839e-02, -2.9006e-02, -7.1130e-02],\n",
      "          [-1.1088e-02, -8.0931e-02, -6.7733e-02, -4.6550e-02, -7.5491e-02],\n",
      "          [ 5.8813e-02, -6.8040e-02,  2.3033e-02, -4.4666e-02,  1.2744e-02],\n",
      "          [-1.9576e-02,  5.2677e-02, -3.1500e-02,  6.1787e-02,  5.4544e-02]],\n",
      "\n",
      "         [[ 3.7851e-02,  2.6933e-02, -2.4726e-02, -6.2643e-02,  1.5814e-03],\n",
      "          [-8.1022e-02,  6.6649e-03, -6.6912e-02, -1.7087e-02, -1.5172e-02],\n",
      "          [ 5.5063e-02,  9.3914e-03,  4.3388e-02, -3.4767e-02, -1.7197e-02],\n",
      "          [ 6.6134e-02, -2.1632e-02,  3.9553e-02,  4.3074e-02, -1.9339e-02],\n",
      "          [-6.9980e-02, -1.8607e-02, -5.2769e-02,  1.4482e-02,  1.6993e-02]],\n",
      "\n",
      "         [[ 6.1686e-02, -1.8351e-02,  2.2362e-02, -2.2236e-02,  9.0881e-03],\n",
      "          [ 7.6091e-02, -3.1219e-03,  5.8959e-02,  4.3516e-02,  2.8346e-03],\n",
      "          [ 1.8650e-02,  7.0473e-02, -5.1729e-03,  2.0942e-02,  3.8233e-02],\n",
      "          [ 4.4732e-02, -6.1167e-02, -4.2738e-02, -1.9947e-02,  2.0048e-02],\n",
      "          [-6.0402e-02,  1.0587e-02, -7.2708e-02,  4.0665e-02,  5.8042e-03]],\n",
      "\n",
      "         [[ 6.8366e-02, -4.3023e-03,  3.5532e-03,  5.2951e-02, -2.4682e-03],\n",
      "          [-5.0618e-02, -5.5564e-02,  6.7575e-02,  1.6184e-02, -7.6389e-02],\n",
      "          [ 5.5040e-02, -3.2967e-02, -7.1074e-03, -2.1557e-02, -6.9926e-02],\n",
      "          [-4.9409e-02,  6.6378e-02,  5.2310e-02,  5.0029e-02, -1.1391e-02],\n",
      "          [ 2.2696e-02, -2.8893e-03,  6.3308e-02,  3.5141e-02, -2.4580e-02]],\n",
      "\n",
      "         [[ 3.0265e-02,  1.1000e-02,  2.9301e-02,  1.7415e-02,  3.5873e-03],\n",
      "          [-4.9154e-02,  6.1713e-02,  1.8161e-02,  5.4137e-02,  5.8909e-02],\n",
      "          [-3.7590e-02, -5.7618e-03, -3.3133e-03, -1.3499e-02,  8.0159e-02],\n",
      "          [ 6.5982e-02, -4.5573e-02,  7.5920e-02,  6.1535e-02,  6.8429e-02],\n",
      "          [-5.9644e-02, -3.5829e-02, -1.1480e-02, -6.4057e-03,  7.2382e-02]],\n",
      "\n",
      "         [[-7.1855e-02,  7.7996e-02, -5.9092e-02, -2.8768e-03, -6.2084e-02],\n",
      "          [ 5.7679e-02, -5.1357e-02, -3.7297e-02, -6.4075e-02,  2.6531e-02],\n",
      "          [ 5.5869e-02, -3.5317e-02, -5.8559e-02,  7.1715e-02, -2.2118e-02],\n",
      "          [-3.5170e-02, -1.4226e-04,  2.0528e-02,  1.8381e-02,  7.9521e-02],\n",
      "          [ 1.2713e-02, -7.8174e-02,  1.7659e-03,  7.5475e-02, -2.6851e-02]]],\n",
      "\n",
      "\n",
      "        [[[ 3.7698e-02,  6.8316e-02, -7.9578e-02,  1.4781e-02,  2.1125e-02],\n",
      "          [-5.7619e-02, -4.4179e-02, -5.6070e-02, -1.9575e-02, -1.0580e-02],\n",
      "          [ 7.4423e-02,  1.9615e-02, -7.1884e-02, -5.9027e-02,  1.8837e-02],\n",
      "          [-4.8547e-02,  1.7247e-02, -7.6519e-02, -5.5179e-02,  3.9692e-02],\n",
      "          [ 5.2721e-02,  6.7705e-02, -6.5720e-03,  4.0068e-02, -3.6809e-02]],\n",
      "\n",
      "         [[ 4.8541e-03,  5.9914e-02,  8.1656e-03,  5.6295e-02,  5.3619e-02],\n",
      "          [ 4.1077e-03, -4.7266e-02,  6.7766e-02, -5.8031e-02,  4.7638e-02],\n",
      "          [ 4.4478e-02, -7.1890e-04, -2.5815e-02, -7.1309e-02, -5.6504e-02],\n",
      "          [ 9.9962e-05, -5.6263e-02, -5.9673e-02, -8.6784e-04, -7.4792e-02],\n",
      "          [ 5.3876e-03, -2.4613e-03,  1.5672e-02,  5.1144e-02,  5.4545e-02]],\n",
      "\n",
      "         [[ 4.5643e-02, -2.2848e-02,  4.2218e-02,  5.2740e-02, -2.2870e-02],\n",
      "          [ 7.7210e-02, -1.1511e-02, -1.4160e-04,  6.5122e-02,  4.0181e-02],\n",
      "          [ 2.4152e-02, -2.0981e-02,  1.5335e-03, -1.5516e-02, -1.6819e-02],\n",
      "          [-6.5889e-02, -2.2570e-02,  5.5847e-02,  6.0000e-03, -7.9336e-02],\n",
      "          [ 4.9186e-02, -7.5731e-02,  3.3592e-02,  7.2861e-02, -3.8574e-02]],\n",
      "\n",
      "         [[-1.5509e-02, -3.1893e-02,  6.0342e-02, -6.9809e-02,  2.1671e-02],\n",
      "          [-4.8267e-02,  4.8341e-02,  1.4618e-03, -3.1929e-02, -4.2560e-02],\n",
      "          [ 8.0678e-02,  3.2207e-03, -2.0977e-02,  5.9817e-03,  4.2691e-02],\n",
      "          [-2.7652e-02,  4.5390e-02, -2.5405e-02, -5.9911e-02,  6.9874e-02],\n",
      "          [-4.7191e-02, -2.5330e-02,  7.1528e-02, -2.7185e-02,  4.8576e-02]],\n",
      "\n",
      "         [[ 7.1445e-02, -6.3474e-02,  4.6364e-02, -7.3195e-02,  6.8433e-04],\n",
      "          [ 8.1481e-02,  7.1151e-02,  2.1180e-03, -6.6768e-03, -3.6878e-02],\n",
      "          [-4.3433e-02,  1.3191e-02, -7.6703e-03, -2.7797e-03, -6.4995e-03],\n",
      "          [-7.7838e-02, -2.0506e-02, -6.9476e-02, -5.9978e-02, -5.4380e-02],\n",
      "          [ 8.1141e-02, -5.3859e-02,  9.3498e-04, -5.6309e-02,  3.0068e-02]],\n",
      "\n",
      "         [[ 2.9834e-02, -6.1910e-02,  5.4591e-02,  5.8547e-02, -7.2477e-02],\n",
      "          [-1.0377e-02,  7.3068e-02,  5.4594e-02, -8.1082e-02,  3.4663e-02],\n",
      "          [-3.1828e-02,  3.8031e-02, -3.2663e-02, -4.4176e-02, -4.6528e-02],\n",
      "          [ 1.6152e-02,  8.6253e-03,  5.8526e-02,  2.0942e-02, -3.1722e-02],\n",
      "          [-6.7176e-02, -2.9878e-02,  2.8149e-02, -1.1971e-02,  2.8990e-02]]]])\n",
      "conv2.bias:\n",
      "tensor([ 0.0392, -0.0711,  0.0518,  0.0312,  0.0021,  0.0086, -0.0308, -0.0497,\n",
      "        -0.0363, -0.0443])\n",
      "fc1.weight:\n",
      "tensor([[ 0.0158,  0.0472, -0.0175,  ..., -0.0384,  0.0132, -0.0376],\n",
      "        [ 0.0257,  0.0501, -0.0310,  ..., -0.0490,  0.0176, -0.0618],\n",
      "        [-0.0111,  0.0183,  0.0375,  ..., -0.0020, -0.0451,  0.0160],\n",
      "        ...,\n",
      "        [ 0.0305, -0.0113,  0.0217,  ...,  0.0439, -0.0227, -0.0255],\n",
      "        [-0.0278,  0.0359, -0.0125,  ..., -0.0280, -0.0537, -0.0204],\n",
      "        [-0.0520, -0.0392,  0.0523,  ..., -0.0006,  0.0201, -0.0220]])\n",
      "fc1.bias:\n",
      "tensor([ 0.0608,  0.0213, -0.0246, -0.0222,  0.0474, -0.0619, -0.0003,  0.0380,\n",
      "        -0.0075, -0.0384])\n",
      "fc2.weight:\n",
      "tensor([[ 3.7941e-02, -3.5339e-02, -1.6349e-02,  ..., -8.9680e-02,\n",
      "         -1.1379e-02,  4.8228e-02],\n",
      "        [ 7.0658e-02, -5.1190e-02, -4.0297e-02,  ..., -8.3740e-02,\n",
      "         -6.3097e-02, -2.8625e-02],\n",
      "        [ 4.5794e-03, -7.5249e-02, -5.1741e-02,  ..., -2.1207e-02,\n",
      "          7.7128e-02,  5.3750e-02],\n",
      "        ...,\n",
      "        [ 8.7171e-03,  5.9828e-02, -1.3266e-02,  ...,  1.2112e-05,\n",
      "          4.6084e-02,  1.1644e-02],\n",
      "        [-1.9371e-02, -5.3275e-02,  7.8713e-03,  ...,  2.8787e-02,\n",
      "          1.8615e-02,  5.9115e-02],\n",
      "        [-4.3543e-02,  1.9939e-02, -1.7975e-02,  ...,  7.3211e-02,\n",
      "          3.4149e-03,  7.8167e-02]])\n",
      "fc2.bias:\n",
      "tensor([ 0.0233,  0.0374,  0.0796,  0.0225, -0.0910,  0.0140,  0.0861,  0.0588,\n",
      "        -0.0537, -0.0270])\n",
      "fc3.weight:\n",
      "tensor([[ 4.0189e-02, -1.7409e-02, -1.0638e-01, -2.5106e-02, -6.9151e-02,\n",
      "         -6.9937e-02,  9.8450e-02,  7.9168e-02,  4.6568e-02,  2.3954e-02,\n",
      "          7.5762e-02, -9.0613e-02,  2.2724e-02,  3.9561e-02, -9.6690e-02,\n",
      "         -2.3303e-02,  2.3133e-02, -6.8893e-02, -1.6710e-02,  1.4312e-02,\n",
      "         -4.6717e-02,  1.0755e-01,  4.4748e-02, -6.0800e-02, -2.7484e-02,\n",
      "          1.0230e-01, -9.3632e-02, -6.1508e-02,  3.3028e-02,  8.8048e-02,\n",
      "         -6.5000e-02, -9.0518e-02, -1.0186e-01,  9.3475e-02, -2.4419e-02,\n",
      "          4.1255e-02,  6.9241e-02,  6.9233e-02, -3.0764e-02, -9.7888e-02,\n",
      "         -1.1504e-02, -5.5433e-02, -9.0996e-02, -4.0986e-02,  8.8808e-02,\n",
      "          3.6466e-02, -1.9832e-02, -2.9796e-02,  3.3469e-02,  5.0353e-03,\n",
      "          3.6772e-02,  4.4933e-02, -8.9511e-02,  9.5681e-02, -7.2572e-02,\n",
      "          2.5195e-03,  3.6900e-03, -4.8337e-02, -1.0687e-01,  1.0248e-01,\n",
      "          5.9586e-02,  4.4194e-02, -9.8955e-02, -9.4346e-02, -4.9285e-02,\n",
      "          1.0139e-01,  8.5252e-02, -8.0595e-02, -2.1138e-02,  2.6738e-02,\n",
      "          5.1136e-02, -9.8867e-02, -5.2650e-02,  1.0518e-01, -1.0813e-01,\n",
      "          4.8246e-02,  8.3041e-02,  2.6384e-02,  8.5635e-02,  8.5175e-02,\n",
      "          8.0555e-02,  8.0769e-02,  2.4106e-02, -9.7927e-02],\n",
      "        [-4.7232e-03,  1.0325e-01,  8.1661e-02, -3.2044e-02,  2.6850e-02,\n",
      "         -7.5064e-02,  7.3365e-02, -1.1947e-02, -1.5000e-02, -1.5125e-02,\n",
      "         -7.5459e-02, -5.5335e-02,  4.9582e-02,  1.6280e-02, -2.4475e-02,\n",
      "          9.3044e-02,  5.3548e-02, -1.5420e-02, -5.4537e-02, -7.2004e-02,\n",
      "         -6.4045e-02, -1.9119e-02, -2.5943e-02, -6.8041e-02, -1.0260e-01,\n",
      "         -4.0332e-02, -9.9194e-02, -5.2384e-02,  4.4265e-03,  1.2622e-02,\n",
      "          2.3388e-02, -7.3352e-02, -3.5687e-02, -1.0482e-01, -1.0392e-01,\n",
      "          2.2047e-02, -1.8100e-02, -1.8665e-02, -6.0637e-02,  5.9274e-03,\n",
      "          2.5904e-02, -8.3572e-02,  9.6533e-02, -4.6929e-02, -3.2985e-02,\n",
      "         -8.8166e-02,  2.7355e-02, -3.3635e-03, -8.7359e-03, -6.3136e-03,\n",
      "         -4.2227e-02, -3.1223e-02, -9.7732e-02,  3.8092e-02, -4.3046e-02,\n",
      "          7.5906e-02, -5.0831e-02, -8.6372e-02, -2.1489e-02, -7.1123e-02,\n",
      "          5.9184e-02, -6.1783e-02, -4.3500e-02, -7.2481e-02,  1.0388e-01,\n",
      "         -6.0219e-02,  8.2869e-02,  6.4253e-02,  7.8651e-02,  9.2535e-02,\n",
      "         -1.1403e-02,  5.4609e-02, -7.3731e-02, -6.2754e-02,  1.0794e-01,\n",
      "          7.6417e-02, -6.4392e-02,  8.8131e-02,  2.1405e-02,  3.6860e-02,\n",
      "          5.9547e-02, -1.8685e-02,  8.0226e-02, -7.7315e-02],\n",
      "        [ 4.8257e-03, -2.1511e-02, -2.7819e-02, -3.5508e-02, -6.3911e-02,\n",
      "          2.0441e-02,  8.6804e-02,  5.1943e-02,  8.4938e-02, -1.0003e-01,\n",
      "          8.1271e-02, -9.5154e-02,  7.5053e-02, -6.3590e-02,  7.4985e-02,\n",
      "          1.0493e-01,  1.0010e-01,  8.8902e-02, -2.2924e-02, -1.0152e-01,\n",
      "          3.0369e-02, -1.0776e-02,  5.7329e-02, -1.0341e-01,  4.4030e-02,\n",
      "          1.8765e-02, -1.3757e-02,  8.4872e-02,  7.6140e-02,  9.9277e-02,\n",
      "          3.8971e-02,  2.8753e-02,  9.7655e-02,  1.0058e-01, -8.9869e-02,\n",
      "         -5.0237e-02,  7.5571e-02, -5.9862e-02,  4.1168e-02, -9.5879e-02,\n",
      "         -7.7993e-02,  6.1642e-03,  1.0137e-02, -9.8767e-02, -8.2599e-02,\n",
      "          4.4354e-04,  8.2496e-02, -1.1888e-02,  6.8876e-02,  3.8133e-02,\n",
      "          1.1528e-02, -2.6574e-02, -8.0643e-02, -6.7678e-02, -8.4236e-03,\n",
      "         -1.0549e-01, -7.1835e-03, -5.7649e-02, -1.7158e-02, -2.2010e-03,\n",
      "         -4.5644e-02, -1.6695e-02,  1.0643e-02, -2.2157e-02,  2.9584e-02,\n",
      "          6.5603e-02,  5.7986e-02,  3.0618e-02,  6.9376e-03,  5.9781e-03,\n",
      "         -1.0065e-01, -9.6439e-02, -8.4521e-03,  9.2039e-02, -1.1777e-02,\n",
      "         -4.1363e-02,  7.2552e-02,  7.8976e-02,  3.7817e-02, -5.8592e-02,\n",
      "          2.7770e-02,  8.5993e-02, -9.5448e-02, -4.6174e-02],\n",
      "        [ 8.6956e-02, -5.4060e-02,  3.9876e-03, -8.6973e-02, -4.6318e-02,\n",
      "          5.4222e-02, -6.7670e-03,  7.7468e-02,  3.7676e-02, -3.7404e-02,\n",
      "         -7.4409e-02, -1.9915e-02,  5.8455e-02,  4.2132e-02,  1.3651e-02,\n",
      "          1.2483e-02, -6.2088e-02, -3.9027e-02,  9.6242e-03, -3.2776e-02,\n",
      "         -6.9889e-02, -9.6046e-02, -2.7146e-02,  2.0280e-02,  9.8020e-02,\n",
      "         -8.6044e-02, -7.5071e-02, -5.1274e-02, -8.2295e-02, -1.2168e-02,\n",
      "          4.9739e-02, -1.5041e-02, -8.5027e-02, -9.2465e-02,  1.3442e-02,\n",
      "         -1.1575e-02,  3.3901e-02, -8.3005e-02,  8.6814e-02, -6.3250e-02,\n",
      "          2.0790e-02,  4.5851e-02, -5.5542e-02,  5.5387e-02,  7.5424e-02,\n",
      "          4.5467e-02, -9.4353e-02,  4.4641e-02, -9.6864e-04,  7.5398e-02,\n",
      "         -3.4209e-02, -2.4245e-03, -1.9348e-02,  4.3176e-02, -5.7741e-02,\n",
      "         -2.7666e-02, -8.4298e-02,  3.8748e-03,  1.0461e-01,  6.3677e-02,\n",
      "          7.9832e-02, -4.9595e-02, -9.0415e-02,  9.1529e-02, -4.0422e-02,\n",
      "         -1.0349e-01, -8.3833e-02, -7.9695e-02, -4.8939e-02, -3.3273e-02,\n",
      "         -3.7041e-02,  7.8724e-02,  8.9529e-02,  4.3322e-02,  7.8340e-02,\n",
      "          9.4731e-02, -1.3045e-02,  1.1722e-02,  7.8409e-03,  9.0049e-02,\n",
      "         -2.7425e-02, -8.7465e-03,  8.4866e-02, -9.1649e-02],\n",
      "        [ 8.7393e-02, -4.8003e-02, -1.0138e-01, -4.4316e-02,  1.0212e-01,\n",
      "          7.7037e-02,  1.2544e-02,  7.6895e-02, -6.5064e-02,  1.5007e-02,\n",
      "          1.0655e-01,  8.3107e-02,  3.9238e-02,  2.6603e-03,  5.0713e-02,\n",
      "          8.4907e-02,  3.3226e-02, -9.5546e-02,  6.6289e-02, -3.0172e-02,\n",
      "         -1.0621e-01, -9.1375e-03, -2.2415e-03,  9.2875e-02,  8.9875e-02,\n",
      "         -8.0394e-03, -1.3455e-02,  7.7096e-02, -8.2787e-02, -1.0352e-01,\n",
      "          4.0769e-02,  2.1240e-02,  5.7916e-02, -8.0415e-02,  1.1606e-02,\n",
      "         -5.0775e-02,  3.0011e-03, -2.1637e-02,  8.2888e-02, -8.8538e-02,\n",
      "          3.9846e-02,  3.6343e-02, -4.7560e-02,  9.5026e-02,  1.0833e-01,\n",
      "          7.2960e-02, -1.2791e-02, -7.4152e-02, -8.8392e-02, -1.0479e-01,\n",
      "          1.0629e-01,  1.0140e-01, -7.0260e-02,  4.0771e-02, -2.2420e-02,\n",
      "         -2.2367e-02,  5.8654e-02, -2.9097e-02, -6.6558e-02, -2.7397e-02,\n",
      "         -8.9431e-02,  3.0946e-02, -1.0682e-01, -9.0460e-02, -3.4148e-02,\n",
      "         -6.7935e-02, -5.6008e-02,  8.3660e-05,  5.5413e-02,  5.5558e-02,\n",
      "         -5.2191e-02, -3.1257e-02, -1.9757e-02, -8.8023e-02, -8.7943e-02,\n",
      "         -5.6257e-02,  2.3987e-02, -8.0477e-02,  1.4876e-02,  6.7033e-02,\n",
      "         -1.0196e-01,  1.0704e-01,  3.2335e-02,  8.8601e-02],\n",
      "        [ 2.0851e-02,  7.4218e-02, -2.1162e-02, -1.8673e-02, -2.0358e-02,\n",
      "         -1.7271e-02,  7.5954e-02,  7.3690e-02,  3.3296e-02,  7.0640e-02,\n",
      "         -1.0669e-01, -9.4709e-02,  9.1899e-02, -7.9053e-03, -3.2038e-02,\n",
      "         -1.0225e-01, -4.1673e-02, -1.0341e-01,  6.5564e-02, -5.6993e-02,\n",
      "         -6.7286e-02,  7.4154e-02, -9.0384e-03,  3.3498e-02, -3.0810e-02,\n",
      "          6.5264e-03,  4.4501e-02, -8.4222e-02,  2.5115e-02, -3.8322e-02,\n",
      "         -1.0698e-01,  1.0558e-01,  6.9567e-02,  6.6076e-02,  8.2439e-02,\n",
      "         -6.6624e-02,  7.8087e-02,  6.4099e-02, -4.5588e-02,  9.9996e-02,\n",
      "         -1.2762e-02,  3.7034e-02,  9.7073e-03, -4.5671e-02,  1.4694e-02,\n",
      "         -8.5744e-02, -1.0905e-02,  9.1905e-03,  9.8611e-02,  4.7261e-02,\n",
      "         -6.9116e-02, -1.7563e-02, -7.6829e-02,  6.8177e-02, -6.2062e-02,\n",
      "         -5.1958e-04, -8.6996e-02,  4.6373e-02, -7.7004e-02, -9.5129e-02,\n",
      "         -3.8064e-02, -1.8895e-02, -1.0701e-01, -3.5885e-02, -1.8087e-02,\n",
      "          6.9933e-02,  5.7391e-02,  4.7719e-02,  6.2433e-02,  1.0808e-01,\n",
      "          8.6733e-02,  7.0295e-02, -3.0289e-02, -6.0124e-02, -6.3281e-02,\n",
      "          9.6745e-02,  3.6097e-03, -2.9659e-02, -4.3507e-02, -1.7647e-02,\n",
      "          1.9859e-02, -7.9074e-02, -4.2348e-02, -7.8011e-02],\n",
      "        [-5.7923e-02, -5.5713e-02, -1.4110e-02,  4.5619e-02,  3.4372e-02,\n",
      "         -1.5723e-02, -8.4854e-02,  8.3645e-02,  2.7343e-02,  7.8773e-02,\n",
      "          9.7930e-02,  6.6885e-02,  8.2683e-02, -1.0765e-01,  2.3762e-03,\n",
      "          7.3056e-03, -8.9369e-02,  8.7301e-02, -5.4302e-02,  1.2845e-02,\n",
      "          8.7058e-02,  8.7847e-02, -9.1280e-02,  5.9110e-02,  5.4747e-02,\n",
      "          6.7720e-02,  1.0440e-01,  9.9409e-02, -7.2902e-03,  6.4516e-02,\n",
      "          6.9205e-03,  6.7856e-02, -9.1839e-02, -6.7716e-02,  8.2665e-02,\n",
      "         -1.8783e-02,  7.6885e-02,  1.5729e-02,  1.2994e-02, -8.9729e-02,\n",
      "          9.9060e-02,  6.4448e-02, -6.9251e-02,  5.4948e-02,  2.1696e-02,\n",
      "         -2.3314e-02, -1.0475e-01, -1.9959e-02, -5.5776e-02, -4.0533e-02,\n",
      "          4.6553e-02,  3.9586e-02,  6.9082e-02,  3.0426e-02, -6.8941e-02,\n",
      "         -5.8008e-02,  3.8665e-02,  2.2981e-02,  2.4971e-02, -2.3130e-02,\n",
      "          6.5756e-02,  9.8154e-02,  8.5244e-02,  3.6122e-02,  3.3573e-02,\n",
      "         -3.8856e-02,  1.4366e-02,  6.1857e-02, -1.3752e-02,  1.9190e-02,\n",
      "          2.9415e-02, -4.8600e-02,  3.3097e-02, -8.2491e-02,  1.1747e-02,\n",
      "          7.0835e-02,  4.6719e-02, -1.0890e-03, -1.2171e-02,  5.5879e-02,\n",
      "         -2.6397e-02, -3.3245e-02,  5.2094e-02, -4.4882e-02],\n",
      "        [ 2.0432e-02,  5.2843e-02, -9.8432e-02, -1.0151e-01,  6.6857e-02,\n",
      "          2.7161e-02,  7.8141e-02, -9.9444e-02,  2.8348e-02,  2.4272e-02,\n",
      "         -9.7708e-02, -6.1365e-02,  4.4736e-02, -4.2681e-02, -2.7556e-03,\n",
      "         -4.5546e-02, -3.0291e-02,  6.6973e-02, -7.4597e-02,  8.5883e-02,\n",
      "          5.9803e-02,  2.6002e-02, -2.4739e-02,  1.0216e-01, -2.5343e-02,\n",
      "         -2.6070e-02, -9.7365e-02,  1.0400e-01, -4.4260e-02, -7.0754e-02,\n",
      "          9.8879e-02,  1.0661e-01, -1.0616e-01,  1.6439e-02, -3.5009e-02,\n",
      "         -5.1828e-02,  1.0332e-01,  4.2082e-02, -3.8988e-02,  8.4068e-02,\n",
      "          6.7573e-02,  3.9718e-02,  4.8653e-02,  3.7608e-02,  4.8140e-02,\n",
      "          9.7365e-02,  6.4949e-02,  3.2155e-02, -2.9774e-02,  2.2743e-02,\n",
      "         -4.5763e-02, -2.2650e-02, -9.3389e-02,  6.8567e-02, -3.0552e-02,\n",
      "          6.6925e-02, -6.4529e-02,  4.6138e-02, -9.5300e-02, -2.5330e-02,\n",
      "          2.7299e-02,  4.3455e-02,  7.7326e-02,  1.0845e-01,  2.8618e-03,\n",
      "         -1.0643e-01,  7.8317e-02,  1.0479e-01,  3.2330e-02, -2.0823e-02,\n",
      "         -6.3424e-02, -9.3398e-02,  6.8241e-02, -2.3143e-02, -9.5558e-02,\n",
      "          5.9708e-02,  8.0898e-02,  9.0559e-02, -4.9246e-02, -2.7312e-02,\n",
      "          9.5135e-03, -3.0476e-02,  6.5821e-02, -4.7163e-02],\n",
      "        [-5.2733e-02,  5.0288e-02,  4.7424e-03, -7.9033e-02, -5.0581e-03,\n",
      "         -5.4136e-02, -6.7691e-02,  1.0851e-01,  3.1348e-02, -4.5979e-03,\n",
      "          4.2679e-02,  3.6733e-02,  6.1564e-02,  1.0432e-01, -3.8426e-02,\n",
      "         -3.1879e-02, -8.9637e-02,  4.8565e-02, -1.0691e-01,  1.0463e-01,\n",
      "         -7.0640e-03,  9.0605e-02,  7.1256e-02, -7.5855e-03, -8.4613e-02,\n",
      "          1.1730e-02,  2.5298e-02, -4.5616e-02,  5.7645e-02, -2.6783e-03,\n",
      "         -2.7787e-02,  3.3166e-02,  5.0107e-02,  9.8708e-02, -3.3712e-02,\n",
      "         -7.7108e-03, -6.5309e-02, -7.6864e-02, -5.0891e-02,  3.9152e-02,\n",
      "         -3.0211e-02, -3.1088e-02, -9.3226e-02, -8.3762e-02,  2.3951e-02,\n",
      "          8.5866e-02,  1.0219e-01, -9.7949e-02,  8.6230e-02,  4.9024e-02,\n",
      "          8.8725e-03,  1.0208e-01, -7.2780e-02, -4.3413e-02, -9.3044e-02,\n",
      "          8.3858e-02,  4.2866e-02,  2.2314e-02,  4.4022e-02, -7.0766e-02,\n",
      "          1.1420e-02,  3.1877e-02,  1.0345e-01,  2.5520e-03, -5.5487e-02,\n",
      "         -5.6874e-02,  8.2128e-02,  6.9848e-02,  1.4042e-02,  1.1318e-02,\n",
      "          8.3446e-02, -5.8527e-02,  3.1181e-02, -1.3739e-02,  2.3447e-02,\n",
      "         -5.7243e-02, -3.1207e-02,  5.9801e-02,  3.1428e-02, -5.0194e-02,\n",
      "          3.2049e-02,  6.5300e-02,  1.0338e-01,  2.0240e-02],\n",
      "        [ 6.3975e-02,  3.3401e-02,  2.4932e-02, -1.2653e-02, -1.0692e-01,\n",
      "         -6.1118e-02,  2.3170e-02, -1.7350e-02,  8.5456e-02,  4.0460e-02,\n",
      "         -1.4183e-02,  7.3222e-02, -2.4301e-02, -2.9299e-03,  2.8843e-02,\n",
      "          8.7836e-02,  8.0947e-02,  1.8156e-03, -2.5505e-02,  1.7752e-02,\n",
      "         -5.5892e-02, -9.3904e-02, -5.4889e-03,  9.9127e-02, -9.6388e-02,\n",
      "          1.0495e-01,  3.2498e-02, -1.0216e-01, -5.3198e-06,  1.4480e-02,\n",
      "          8.0630e-02, -5.3388e-02, -2.5581e-02,  9.4961e-02, -9.8199e-02,\n",
      "          3.1562e-04,  1.0617e-01,  1.0392e-01, -4.1245e-02,  5.8045e-02,\n",
      "         -3.5342e-02, -5.3928e-02,  8.7675e-02,  8.5275e-03,  8.6701e-02,\n",
      "         -8.1768e-02,  4.8891e-02,  9.7988e-02, -4.0971e-02, -8.5380e-02,\n",
      "          4.7641e-03, -7.3801e-02,  7.7048e-02, -5.9350e-02, -2.9862e-02,\n",
      "         -5.3551e-03,  3.4187e-02,  5.7892e-02,  4.2923e-02,  8.6651e-02,\n",
      "         -9.2658e-03,  1.0705e-01,  5.7807e-02,  5.3028e-02, -8.8271e-04,\n",
      "          3.4975e-02,  6.2937e-02, -1.4649e-03, -3.6953e-02,  2.7791e-02,\n",
      "         -7.1599e-02, -7.2790e-02,  2.5168e-02,  6.4623e-02, -4.5260e-02,\n",
      "         -5.0382e-02,  3.8605e-02,  4.9072e-02,  9.3729e-03,  5.7121e-02,\n",
      "         -1.0020e-02,  4.1844e-02, -1.0722e-01, -3.7717e-02]])\n",
      "fc3.bias:\n",
      "tensor([ 0.0155,  0.0242,  0.0054,  0.0964, -0.0998, -0.0628, -0.0838, -0.0539,\n",
      "         0.0715, -0.0908])\n"
     ]
    }
   ],
   "source": [
    "model = Net(num_classes=10)\n",
    "num_parameters = sum(value.numel() for value in model.state_dict().values())\n",
    "print(f\"{num_parameters = }\")\n",
    "\n",
    "# print the model's weight\n",
    "for name, param in model.named_parameters():\n",
    "    print(f\"{name}:\\n{param.data[:10]}\")  # Prints first 5 values"
   ]
  },
  {
   "attachments": {},
   "cell_type": "markdown",
   "metadata": {},
   "source": [
    "## The Training Loop\n",
    "\n",
    "A minimal training loop in PyTorch can be constructed with three functions:\n",
    "*  `train()` that will train the model given a dataloader.\n",
    "* `test()` that will be used to evaluate the performance of the model on held-out data, e.g., a training set.\n",
    "* `run_centralised()` which will define additional elements (e.g. the optimiser) and run the training loop over N epochs.\n",
    "\n",
    "Let's construct these functions!\n"
   ]
  },
  {
   "cell_type": "code",
   "execution_count": 23,
   "metadata": {},
   "outputs": [],
   "source": [
    "def train(net, trainloader, optimizer, device=\"cpu\"):\n",
    "    \"\"\"Train the network on the training set.\"\"\"\n",
    "    criterion = torch.nn.CrossEntropyLoss()\n",
    "    net.to(device)\n",
    "    net.train()\n",
    "    for batch in trainloader:\n",
    "        images, labels = batch[\"image\"].to(device), batch[\"label\"].to(device)\n",
    "        optimizer.zero_grad()\n",
    "        loss = criterion(net(images), labels)\n",
    "        loss.backward()\n",
    "        optimizer.step()\n",
    "\n",
    "\n",
    "def test(net, testloader, device):\n",
    "    \"\"\"Validate the network on the entire test set.\"\"\"\n",
    "    criterion = torch.nn.CrossEntropyLoss()\n",
    "    correct, loss = 0, 0.0\n",
    "    net.to(device)\n",
    "    net.eval()\n",
    "    with torch.no_grad():\n",
    "        for batch in testloader:\n",
    "            images, labels = batch[\"image\"].to(device), batch[\"label\"].to(device)\n",
    "            outputs = net(images)\n",
    "            loss += criterion(outputs, labels).item()\n",
    "            _, predicted = torch.max(outputs.data, 1)\n",
    "            correct += (predicted == labels).sum().item()\n",
    "    accuracy = correct / len(testloader.dataset)\n",
    "    return loss, accuracy\n",
    "\n",
    "\n",
    "def run_centralised(\n",
    "    trainloader, testloader, epochs: int, lr: float, momentum: float = 0.9\n",
    "):\n",
    "    \"\"\"A minimal (but complete) training loop\"\"\"\n",
    "\n",
    "    # instantiate the model\n",
    "    model = Net(num_classes=10)\n",
    "\n",
    "    # Discover device\n",
    "    device = torch.device(\"cuda:0\" if torch.cuda.is_available() else \"cpu\")\n",
    "    model.to(device)\n",
    "\n",
    "    # define optimiser with hyperparameters supplied\n",
    "    optim = torch.optim.SGD(model.parameters(), lr=lr, momentum=momentum)\n",
    "\n",
    "    # train for the specified number of epochs\n",
    "    for e in range(epochs):\n",
    "        print(f\"Training epoch {e} ...\")\n",
    "        train(model, trainloader, optim, device)\n",
    "\n",
    "    # training is completed, then evaluate model on the test set\n",
    "    loss, accuracy = test(model, testloader, device)\n",
    "    print(f\"{loss = }\")\n",
    "    print(f\"{accuracy = }\")"
   ]
  },
  {
   "attachments": {},
   "cell_type": "markdown",
   "metadata": {},
   "source": [
    "Let's run this for 5 epochs (you'll see it reaching close to 99% accuracy -- as expected from a centralised setup with the MNIST dataset)"
   ]
  },
  {
   "cell_type": "code",
   "execution_count": 24,
   "metadata": {
    "colab": {
     "base_uri": "https://localhost:8080/"
    },
    "outputId": "e8d9b429-178d-4924-e82f-4d4e52863788"
   },
   "outputs": [
    {
     "name": "stdout",
     "output_type": "stream",
     "text": [
      "Training epoch 0 ...\n",
      "Training epoch 1 ...\n",
      "Training epoch 2 ...\n",
      "Training epoch 3 ...\n",
      "Training epoch 4 ...\n",
      "loss = 12.401328534862841\n",
      "accuracy = 0.9885\n"
     ]
    }
   ],
   "source": [
    "# Construct dataloaders\n",
    "trainloader, testloader = get_mnist_dataloaders(mnist, batch_size=32)\n",
    "\n",
    "# Run the centralised training\n",
    "run_centralised(trainloader, testloader, epochs=5, lr=0.01)"
   ]
  },
  {
   "attachments": {},
   "cell_type": "markdown",
   "metadata": {},
   "source": [
    "The above centralised formulation has worked just fine for some applications and to showcase the potential of AI in a variety of scenarios. However, as was discussed earlier in the session, centralised training is unsuitable for a larger range of settings were information cannot be collected in order to build a unified (centralised) dataset.\n",
    "\n",
    "# The Future of AI is Federated\n",
    "\n",
    "What are the key differences between Federated Learning and Centralised Training? I you could only pick you, probably you'd say:\n",
    "* Federated Learning is distributed -- the model is trained on-device by the participating clients.\n",
    "* Data remains private and is owned by a specific _client_ -- the data is never sent to the central server.\n",
    "\n",
    "The are several more differences. But the above two are the main ones to always consider and that are common to all flavours of Federated Learning (e.g. _cross-device_ or _cross-silo_). The remaining of this tutorial is going to focus in transforming the code we have written so far for the centralised setting and construct a Federated Learning pipeline using Flower and PyTorch.\n",
    "\n",
    "Let's begin! 🚀"
   ]
  },
  {
   "attachments": {},
   "cell_type": "markdown",
   "metadata": {},
   "source": [
    "## One Client, One Data Partition\n",
    "\n",
    "To start designing a Federated Learning pipeline we need to meet one of the key properties in FL: each client has its own data partition. To accomplish this with the MNIST dataset, we are going to generate N random partitions, where N is the total number of clients in our FL system, using [Flower Datasets](https://flower.ai/docs/datasets/). Let's create 100 partitions with the [IidPartitioner](https://flower.ai/docs/datasets/ref-api/flwr_datasets.partitioner.IidPartitioner.html#flwr_datasets.partitioner.IidPartitioner) -- note there are many more [partitioners](https://flower.ai/docs/datasets/ref-api/flwr_datasets.partitioner.html) to choose from."
   ]
  },
  {
   "cell_type": "code",
   "execution_count": 25,
   "metadata": {},
   "outputs": [],
   "source": [
    "from flwr_datasets import FederatedDataset\n",
    "from flwr_datasets.partitioner import IidPartitioner\n",
    "\n",
    "NUM_PARTITIONS = 100\n",
    "\n",
    "partitioner = IidPartitioner(num_partitions=NUM_PARTITIONS)\n",
    "# Let's partition the \"train\" split of the MNIST dataset\n",
    "# The MNIST dataset will be downloaded if it hasn't been already\n",
    "fds = FederatedDataset(dataset=\"ylecun/mnist\", partitioners={\"train\": partitioner})"
   ]
  },
  {
   "cell_type": "markdown",
   "metadata": {},
   "source": [
    "Accessing individual partitions can be done like this. The return object can be then passed to a dataloader for training or evaluation."
   ]
  },
  {
   "cell_type": "code",
   "execution_count": 26,
   "metadata": {},
   "outputs": [
    {
     "data": {
      "text/plain": [
       "Dataset({\n",
       "    features: ['image', 'label'],\n",
       "    num_rows: 600\n",
       "})"
      ]
     },
     "execution_count": 26,
     "metadata": {},
     "output_type": "execute_result"
    }
   ],
   "source": [
    "# We could load a single partition like this\n",
    "partition_0 = fds.load_partition(0)\n",
    "partition_0"
   ]
  },
  {
   "cell_type": "markdown",
   "metadata": {},
   "source": [
    "`Flower Datasets` comes with built-in visualization tools that help you get insights of how the dataset (in this case MNIST) has been partitioned. Let's create a parplot to visualize the number of labels of each class that every client's partition contains. Note we are only visualising the first 30 clients purely so the plot remain readable. \n",
    "\n",
    "> There are many more types of plots you can generated with Flower Datasets. Check the [Visualization tutorial](https://flower.ai/docs/datasets/tutorial-visualize-label-distribution.html). Feel free to try other partitioning scheemes and you'll see how the visualization changes."
   ]
  },
  {
   "cell_type": "code",
   "execution_count": 27,
   "metadata": {},
   "outputs": [
    {
     "data": {
      "image/png": "[encoded data removed]",
      "text/plain": [
       "<Figure size 640x480 with 1 Axes>"
      ]
     },
     "metadata": {},
     "output_type": "display_data"
    }
   ],
   "source": [
    "from flwr_datasets.visualization import plot_label_distributions\n",
    "\n",
    "fig, ax, df = plot_label_distributions(\n",
    "    partitioner,\n",
    "    label_name=\"label\",\n",
    "    plot_type=\"bar\",\n",
    "    size_unit=\"absolute\",\n",
    "    partition_id_axis=\"x\",\n",
    "    legend=True,\n",
    "    verbose_labels=True,\n",
    "    max_num_partitions=30,  # Note we are only showing the first 30 so the plot remains readable\n",
    "    title=\"Per Partition Labels Distribution\",\n",
    ")"
   ]
  },
  {
   "attachments": {},
   "cell_type": "markdown",
   "metadata": {},
   "source": [
    "As you can see, the histogram of this partition is a bit different from the one we obtained at the beginning where we took the entire dataset into consideration. Because our data partitions are artificially constructed by sampling the MNIST dataset in an IID fashion, our Federated Learning example will not face sever _data heterogeneity_ issues (which is a fairly [active research topic](https://arxiv.org/abs/1912.04977)).\n",
    "\n",
    "Let's next define how our FL clients will behave\n",
    "\n",
    "## Defining a Flower `ClientApp`\n",
    "\n",
    "You can think of a client in FL as an entity that owns some data and trains a model using this data. The caveat is that the model is being trained _collaboratively_ in Federation by multiple clients (sometimes up to hundreds of thousands) and, in most instances of FL, is sent by a central server running in a `ServerApp` (more on this later).\n",
    "\n",
    "A Flower Client is a simple Python class with two distinct methods:\n",
    "\n",
    "* `fit()`: With this method, the client does on-device training for a number of epochs using its own data. At the end, the resulting model is sent back to the server for aggregation.\n",
    "\n",
    "* `evaluate()`: With this method, the server can evaluate the performance of the global model on the local validation set of a client. This can be used for instance when there is no centralised dataset on the server for validation/test. Also, this method can be use to asses the degree of personalisation of the model being federated.\n",
    "\n",
    "This class will be then wrapped into a `ClientApp` that can be used to launch the simulation."
   ]
  },
  {
   "cell_type": "code",
   "execution_count": 28,
   "metadata": {},
   "outputs": [],
   "source": [
    "import tenseal as ts\n",
    "\n",
    "def get_context():\n",
    "    context = ts.context(\n",
    "        ts.SCHEME_TYPE.CKKS,\n",
    "        poly_modulus_degree=8192,\n",
    "        coeff_mod_bit_sizes=[60, 40, 40, 60]\n",
    "    )\n",
    "    context.generate_galois_keys()\n",
    "    context.global_scale = 2**40\n",
    "    return context\n"
   ]
  },
  {
   "attachments": {},
   "cell_type": "markdown",
   "metadata": {},
   "source": [
    "Now let's define our Flower Client class:"
   ]
  },
  {
   "cell_type": "code",
   "execution_count": 29,
   "metadata": {},
   "outputs": [],
   "source": [
    "from collections import OrderedDict\n",
    "from typing import Dict, Tuple\n",
    "import torch\n",
    "from flwr.common import NDArrays, Scalar\n",
    "from flwr.client import NumPyClient\n",
    "\n",
    "\n",
    "class FlowerClient(NumPyClient):\n",
    "    def __init__(self, trainloader, valloader) -> None:\n",
    "        super().__init__()\n",
    "\n",
    "        self.trainloader = trainloader\n",
    "        self.valloader = valloader\n",
    "        self.model = Net(num_classes=10)\n",
    "        self.device = torch.device(\"cuda:0\" if torch.cuda.is_available() else \"cpu\")\n",
    "\n",
    "    def fit(self, parameters, config):\n",
    "        \"\"\"This method trains the model using the parameters sent by the\n",
    "        server on the dataset of this client. At then end, the parameters\n",
    "        of the locally trained model are communicated back to the server\"\"\"\n",
    "\n",
    "        # copy parameters sent by the server into client's local model\n",
    "        set_params(self.model, parameters)\n",
    "\n",
    "        # Define the optimizer\n",
    "        optim = torch.optim.SGD(self.model.parameters(), lr=0.01, momentum=0.9)\n",
    "\n",
    "        # do local training (call same function as centralised setting)\n",
    "        train(self.model, self.trainloader, optim, self.device)\n",
    "\n",
    "        # return the model parameters to the server as well as extra info (number of training examples in this case)\n",
    "        return get_params(self.model), len(self.trainloader), {}\n",
    "\n",
    "    def evaluate(self, parameters: NDArrays, config: Dict[str, Scalar]):\n",
    "        \"\"\"Evaluate the model sent by the server on this client's\n",
    "        local validation set. Then return performance metrics.\"\"\"\n",
    "\n",
    "        set_params(self.model, parameters)\n",
    "        # do local evaluation (call same function as centralised setting)\n",
    "        loss, accuracy = test(self.model, self.valloader, self.device)\n",
    "        # send statistics back to the server\n",
    "        return float(loss), len(self.valloader), {\"accuracy\": accuracy}\n",
    "\n",
    "\n",
    "# Two auxhiliary functions to set and extract parameters of a model\n",
    "\n",
    "def set_params(model, parameters):\n",
    "    params_dict = zip(model.state_dict().keys(), parameters)\n",
    "    state_dict = OrderedDict({k: torch.from_numpy(v) for k, v in params_dict})\n",
    "    model.load_state_dict(state_dict, strict=True)\n",
    "\n",
    "def get_params(model):\n",
    "    return [val.cpu().numpy() for _, val in model.state_dict().items()]\n",
    "\n"
   ]
  },
  {
   "cell_type": "markdown",
   "metadata": {},
   "source": [
    "Spend a few minutes to inspect the `FlowerClient` class above. Please ask questions if there is something unclear !\n",
    "\n",
    "Then keen-eyed among you might have realised that if we were to fuse the client's `fit()` and `evaluate()` methods, we'll end up with essentially the same as in the `run_centralised()` function we used in the Centralised Training part of this tutorial. And it is true!! In Federated Learning, the way clients perform local training makes use of the same principles as more traditional centralised setup. The key difference is that the dataset now is much smaller and it's never _\"seen\"_ by the entity running the FL workload (i.e. the central server).\n"
   ]
  },
  {
   "cell_type": "markdown",
   "metadata": {},
   "source": [
    "### The `client_fn` callback\n",
    "\n",
    "Now let's see how the `FlowerClient` object above can be used in Flower: we need to construct a `ClientApp`. This can be conveniently be done by means of a `client_fn` callback that will return a `FlowerClient` that uses a specific data partition (`partition-id`). The index of the partition is set internally during the simulation (meaning you shouldn't worry about it this tutorial)"
   ]
  },
  {
   "cell_type": "code",
   "execution_count": 30,
   "metadata": {},
   "outputs": [],
   "source": [
    "from flwr.common import Context\n",
    "from flwr.client import ClientApp\n",
    "\n",
    "\n",
    "def client_fn(context: Context):\n",
    "    \"\"\"Returns a FlowerClient containing its data partition.\"\"\"\n",
    "\n",
    "    partition_id = int(context.node_config[\"partition-id\"])\n",
    "    partition = fds.load_partition(partition_id, \"train\")\n",
    "    # partition into train/validation\n",
    "    partition_train_val = partition.train_test_split(test_size=0.1, seed=42)\n",
    "\n",
    "    # Let's use the function defined earlier to construct the dataloaders\n",
    "    # and apply the dataset transformations\n",
    "    trainloader, testloader = get_mnist_dataloaders(partition_train_val, batch_size=32)\n",
    "\n",
    "    return FlowerClient(trainloader=trainloader, valloader=testloader).to_client()\n",
    "\n",
    "\n",
    "# Concstruct the ClientApp passing the client generation function\n",
    "client_app = ClientApp(client_fn=client_fn)"
   ]
  },
  {
   "cell_type": "markdown",
   "metadata": {},
   "source": [
    "Now that a `ClientApp` is fully defined, let's create its counterpart: the `ServerApp`."
   ]
  },
  {
   "cell_type": "code",
   "execution_count": 31,
   "metadata": {},
   "outputs": [],
   "source": [
    "import tenseal as ts\n",
    "import tenseal as ts\n",
    "import numpy as np\n",
    "from tenseal.tensors.bfvvector import BFVVector"
   ]
  },
  {
   "cell_type": "code",
   "execution_count": 32,
   "metadata": {},
   "outputs": [],
   "source": [
    "def context():\n",
    "    context = ts.context(ts.SCHEME_TYPE.CKKS,8192, coeff_mod_bit_sizes=[60, 40, 40, 60])\n",
    "    context.global_scale = pow(2, 40)\n",
    "    context.generate_galois_keys()\n",
    "    return context\n",
    "\n",
    "context = context()"
   ]
  },
  {
   "attachments": {},
   "cell_type": "markdown",
   "metadata": {},
   "source": [
    "## Defining a Flower `ServerApp`\n",
    "\n",
    "### Chosing a Flower Strategy\n",
    "\n",
    "\n",
    "A strategy sits at the core of the Federated Learning experiment. It is involved in all stages of a FL pipeline: sampling clients; sending the _global model_ to the clients so they can do `fit()`; receive the updated models from the clients and **aggregate** these to construct a new _global model_; define and execute global or federated evaluation; and more.\n",
    "\n",
    "Flower comes with [many strategies built-in](https://github.com/adap/flower/tree/main/src/py/flwr/server/strategy). For this tutorial, let's use what is arguable the most popular strategy out there: `FedAvg`.\n",
    "\n",
    "The way `FedAvg` works is simple but performs surprisingly well in practice. It is therefore one good strategy to start your experimentation. `FedAvg`, as its name implies, derives a new version of the _global model_ by taking the average of all the models sent by clients participating in the round. You can read all the details [in the paper](https://arxiv.org/abs/1602.05629).\n",
    "\n",
    "While Flower strategies offer a high degree of customization using callbacks, in this tutorial we'll focus on using just one: the `evaluate_metrics_aggregation_fn` callback. It allows you to pass a function that should be executed at the end of an _\"evaluate\"_ round (i.e. a round where clients evaluate the _global model_ they receive on their local data and report the result -- e.g. accuracy, loss, etc -- back to the server). For this tutorial we want to perform the weighted average of the _\"accuracy\"_ metrics returned by each `FlowerClient`'s `evaluate()` method:"
   ]
  },
  {
   "cell_type": "code",
   "execution_count": 33,
   "metadata": {},
   "outputs": [],
   "source": [
    "from typing import List\n",
    "from flwr.common import Metrics\n",
    "\n",
    "\n",
    "# Define metric aggregation function\n",
    "def weighted_average(metrics: List[Tuple[int, Metrics]]) -> Metrics:\n",
    "    # Multiply accuracy of each client by number of examples used\n",
    "    accuracies = [num_examples * m[\"accuracy\"] for num_examples, m in metrics]\n",
    "    examples = [num_examples for num_examples, _ in metrics]\n",
    "\n",
    "    # Aggregate and return custom metric (weighted average)\n",
    "    return {\"accuracy\": sum(accuracies) / sum(examples)}"
   ]
  },
  {
   "cell_type": "markdown",
   "metadata": {},
   "source": [
    "We'll use this callback when defining the strategy in the next section"
   ]
  },
  {
   "cell_type": "markdown",
   "metadata": {},
   "source": [
    "### The `server_fn` callback\n",
    "\n",
    "The easiest way to create a `ServerApp` with the aggregation _strategy_ of your choice is by means of a `server_fn` callback. It has a similar signature to `client_fn` but, instead of returning a client object, it returns all the components needed to run the server-side logic in Flower. In this tutorial we'll keep things simple and stick to `FedAvg` with initialised global parameters."
   ]
  },
  {
   "cell_type": "code",
   "execution_count": 34,
   "metadata": {},
   "outputs": [],
   "source": [
    "from flwr.common import ndarrays_to_parameters\n",
    "from flwr.server import ServerApp, ServerConfig, ServerAppComponents\n",
    "from flwr.server.strategy import FedAvg\n",
    "\n",
    "num_rounds = 5\n",
    "\n",
    "\n",
    "def server_fn(context: Context):\n",
    "\n",
    "    # instantiate the model\n",
    "    model = Net(num_classes=10)\n",
    "    ndarrays = get_params(model)\n",
    "    # Convert model parameters to flwr.common.Parameters\n",
    "    global_model_init = ndarrays_to_parameters(ndarrays)\n",
    "\n",
    "    # Define the strategy\n",
    "    strategy = FedAvg(\n",
    "        fraction_fit=0.1,  # 10% clients sampled each round to do fit()\n",
    "        fraction_evaluate=0.5,  # 50% clients sample each round to do evaluate()\n",
    "        evaluate_metrics_aggregation_fn=weighted_average,  # callback defined earlier\n",
    "        initial_parameters=global_model_init,  # initialised global model\n",
    "    )\n",
    "\n",
    "    # Construct ServerConfig\n",
    "    config = ServerConfig(num_rounds=num_rounds)\n",
    "\n",
    "    # Wrap everything into a `ServerAppComponents` object\n",
    "    return ServerAppComponents(strategy=strategy, config=config)\n",
    "\n",
    "\n",
    "# Create your ServerApp\n",
    "server_app = ServerApp(server_fn=server_fn)"
   ]
  },
  {
   "cell_type": "markdown",
   "metadata": {},
   "source": [
    "## Launching the Simulation\n",
    "\n",
    "With both `ClientApp` and `ServerApp` ready, we can launch the simulation. Pass both apps to the `run_simulation()` function and specify the number of `supernodes` (this is a more general term used in Flower to refer to individual \"nodes\" or \"clients\"). We earlier partitioned the dataset into 100 partitions, one for each supernode. So we indicate that `num_supernodes`=100."
   ]
  },
  {
   "cell_type": "code",
   "execution_count": 35,
   "metadata": {},
   "outputs": [
    {
     "name": "stderr",
     "output_type": "stream",
     "text": [
      "\u001b[92mINFO \u001b[0m:      Starting Flower ServerApp, config: num_rounds=5, no round_timeout\n",
      "\u001b[92mINFO \u001b[0m:      \n",
      "\u001b[92mINFO \u001b[0m:      [INIT]\n",
      "\u001b[92mINFO \u001b[0m:      Using initial global parameters provided by strategy\n",
      "\u001b[92mINFO \u001b[0m:      Starting evaluation of initial global parameters\n",
      "\u001b[92mINFO \u001b[0m:      Evaluation returned no results (`None`)\n",
      "\u001b[92mINFO \u001b[0m:      \n",
      "\u001b[92mINFO \u001b[0m:      [ROUND 1]\n",
      "\u001b[92mINFO \u001b[0m:      configure_fit: strategy sampled 10 clients (out of 100)\n",
      "\u001b[33m(raylet)\u001b[0m /Users/creamy/Research/.venv/lib/python3.9/site-packages/urllib3/__init__.py:35: NotOpenSSLWarning: urllib3 v2 only supports OpenSSL 1.1.1+, currently the 'ssl' module is compiled with 'LibreSSL 2.8.3'. See: https://github.com/urllib3/urllib3/issues/3020\n",
      "\u001b[33m(raylet)\u001b[0m   warnings.warn(\n",
      "\u001b[92mINFO \u001b[0m:      aggregate_fit: received 10 results and 0 failures\n",
      "\u001b[93mWARNING \u001b[0m:   No fit_metrics_aggregation_fn provided\n",
      "\u001b[92mINFO \u001b[0m:      configure_evaluate: strategy sampled 50 clients (out of 100)\n",
      "\u001b[92mINFO \u001b[0m:      aggregate_evaluate: received 50 results and 0 failures\n",
      "\u001b[92mINFO \u001b[0m:      \n",
      "\u001b[92mINFO \u001b[0m:      [ROUND 2]\n",
      "\u001b[92mINFO \u001b[0m:      configure_fit: strategy sampled 10 clients (out of 100)\n",
      "\u001b[92mINFO \u001b[0m:      aggregate_fit: received 10 results and 0 failures\n",
      "\u001b[92mINFO \u001b[0m:      configure_evaluate: strategy sampled 50 clients (out of 100)\n",
      "\u001b[92mINFO \u001b[0m:      aggregate_evaluate: received 50 results and 0 failures\n",
      "\u001b[92mINFO \u001b[0m:      \n",
      "\u001b[92mINFO \u001b[0m:      [ROUND 3]\n",
      "\u001b[92mINFO \u001b[0m:      configure_fit: strategy sampled 10 clients (out of 100)\n",
      "\u001b[92mINFO \u001b[0m:      aggregate_fit: received 10 results and 0 failures\n",
      "\u001b[92mINFO \u001b[0m:      configure_evaluate: strategy sampled 50 clients (out of 100)\n",
      "\u001b[92mINFO \u001b[0m:      aggregate_evaluate: received 50 results and 0 failures\n",
      "\u001b[92mINFO \u001b[0m:      \n",
      "\u001b[92mINFO \u001b[0m:      [ROUND 4]\n",
      "\u001b[92mINFO \u001b[0m:      configure_fit: strategy sampled 10 clients (out of 100)\n",
      "\u001b[92mINFO \u001b[0m:      aggregate_fit: received 10 results and 0 failures\n",
      "\u001b[92mINFO \u001b[0m:      configure_evaluate: strategy sampled 50 clients (out of 100)\n",
      "\u001b[92mINFO \u001b[0m:      aggregate_evaluate: received 50 results and 0 failures\n",
      "\u001b[92mINFO \u001b[0m:      \n",
      "\u001b[92mINFO \u001b[0m:      [ROUND 5]\n",
      "\u001b[92mINFO \u001b[0m:      configure_fit: strategy sampled 10 clients (out of 100)\n",
      "\u001b[92mINFO \u001b[0m:      aggregate_fit: received 10 results and 0 failures\n",
      "\u001b[92mINFO \u001b[0m:      configure_evaluate: strategy sampled 50 clients (out of 100)\n",
      "\u001b[92mINFO \u001b[0m:      aggregate_evaluate: received 50 results and 0 failures\n",
      "\u001b[92mINFO \u001b[0m:      \n",
      "\u001b[92mINFO \u001b[0m:      [SUMMARY]\n",
      "\u001b[92mINFO \u001b[0m:      Run finished 5 round(s) in 13.25s\n",
      "\u001b[92mINFO \u001b[0m:      \tHistory (loss, distributed):\n",
      "\u001b[92mINFO \u001b[0m:      \t\tround 1: 4.553036484718323\n",
      "\u001b[92mINFO \u001b[0m:      \t\tround 2: 4.418379554748535\n",
      "\u001b[92mINFO \u001b[0m:      \t\tround 3: 3.8817710185050966\n",
      "\u001b[92mINFO \u001b[0m:      \t\tround 4: 2.1321583557128907\n",
      "\u001b[92mINFO \u001b[0m:      \t\tround 5: 1.4853745317459106\n",
      "\u001b[92mINFO \u001b[0m:      \tHistory (metrics, distributed, evaluate):\n",
      "\u001b[92mINFO \u001b[0m:      \t{'accuracy': [(1, 0.166),\n",
      "\u001b[92mINFO \u001b[0m:      \t              (2, 0.426),\n",
      "\u001b[92mINFO \u001b[0m:      \t              (3, 0.5219999999999999),\n",
      "\u001b[92mINFO \u001b[0m:      \t              (4, 0.7),\n",
      "\u001b[92mINFO \u001b[0m:      \t              (5, 0.7846666666666668)]}\n",
      "\u001b[92mINFO \u001b[0m:      \n",
      "\u001b[33m(raylet)\u001b[0m /Users/creamy/Research/.venv/lib/python3.9/site-packages/urllib3/__init__.py:35: NotOpenSSLWarning: urllib3 v2 only supports OpenSSL 1.1.1+, currently the 'ssl' module is compiled with 'LibreSSL 2.8.3'. See: https://github.com/urllib3/urllib3/issues/3020\u001b[32m [repeated 7x across cluster] (Ray deduplicates logs by default. Set RAY_DEDUP_LOGS=0 to disable log deduplication, or see https://docs.ray.io/en/master/ray-observability/user-guides/configure-logging.html#log-deduplication for more options.)\u001b[0m\n",
      "\u001b[33m(raylet)\u001b[0m   warnings.warn(\u001b[32m [repeated 7x across cluster]\u001b[0m\n"
     ]
    }
   ],
   "source": [
    "from flwr.simulation import run_simulation\n",
    "\n",
    "run_simulation(\n",
    "    server_app=server_app, client_app=client_app, num_supernodes=NUM_PARTITIONS\n",
    ")"
   ]
  },
  {
   "cell_type": "markdown",
   "metadata": {},
   "source": [
    "Note above how the distributed `accuracy` goes up as training progresses while the loss goes down. Federated learning is working!"
   ]
  },
  {
   "cell_type": "markdown",
   "metadata": {},
   "source": [
    "## Bonus: Create your own Strategy\n",
    "\n",
    "Flower strategies can be extended easily to suit your FL setups or your preferred workflows whether you use Flower for research or in production. In this final section, you'll learn how to create a custom strategy that behaves just like `FedAvg` but extends the functionality of certain methods to achieve two things:\n",
    "1. Save the results obtained on each round into a JSON file.\n",
    "2. Create a plot at after the last round.\n",
    "\n",
    "\n",
    "Let's call this strategy `FedAvgCustom`. We'll use it to also showcase how to use the `evaluate_fn` callback, a convenient way to do centralised evaluation of the global model after each round. Note this functionality is user-defined since it requires a choice in terms of ML-framework. (if you recall, Flower is framework agnostic).\n",
    "\n",
    "> This being said, centralised evaluation of the global model is only possible if there exists a centralised dataset that somewhat follows a similar distribution as the data that's spread across clients. In some cases having such centralised dataset for validation is not possible, so the only solution is to federate the evaluation of the _global model_. This is the default behaviour in Flower. If you don't specify the `evaluate_fn` argument in your strategy, then, centralised global evaluation won't be performed."
   ]
  },
  {
   "cell_type": "code",
   "execution_count": 36,
   "metadata": {},
   "outputs": [],
   "source": [
    "from flwr.server.strategy import FedAvg\n",
    "from flwr.common import Parameters\n",
    "import json\n",
    "\n",
    "\n",
    "class FedAvgCustom(FedAvg):\n",
    "    def __init__(self, file_name: str, num_rounds: int, *args, **kwargs):\n",
    "        super().__init__(*args, **kwargs)\n",
    "        self.file_name = file_name\n",
    "        self.num_rounds = num_rounds\n",
    "        self.loss_list = []\n",
    "        self.metrics_list = []\n",
    "\n",
    "    def _make_plot(self):\n",
    "        \"\"\"Makes a plot with the results recorded\"\"\"\n",
    "        round = list(range(1, len(self.loss_list) + 1))\n",
    "        acc = [100.0 * metrics[\"accuracy\"] for metrics in self.metrics_list]\n",
    "        plt.plot(round, acc)\n",
    "        plt.grid()\n",
    "        plt.ylabel(\"Accuracy (%)\")\n",
    "        plt.xlabel(\"Round\")\n",
    "\n",
    "    def evaluate(self, server_round: int, parameters: Parameters):\n",
    "        \"\"\"Evaluate model parameters using an evaluation function.\"\"\"\n",
    "        loss, metrics = super().evaluate(server_round, parameters)\n",
    "        # Record results\n",
    "        self.loss_list.append(loss)\n",
    "        self.metrics_list.append(metrics)\n",
    "        # If last round, save results and make a plot\n",
    "        if server_round == self.num_rounds:\n",
    "            # Save to CSV\n",
    "            with open(f\"{self.file_name}.json\", \"w\") as f:\n",
    "                json.dump({\"loss\": self.loss_list, \"metrics\": self.metrics_list}, f)\n",
    "            # Generate plot\n",
    "            self._make_plot()\n",
    "\n",
    "\n",
    "def get_evaluate_fn(testloader):\n",
    "    \"\"\"Return a function that can be called to do global evaluation.\"\"\"\n",
    "\n",
    "    def evaluate_fn(server_round: int, parameters, config):\n",
    "        \"\"\"Evaluate global model on the whole test set.\"\"\"\n",
    "\n",
    "        model = Net(num_classes=10)\n",
    "        device = torch.device(\"cuda:0\" if torch.cuda.is_available() else \"cpu\")\n",
    "        model.to(device)\n",
    "\n",
    "        # set parameters to the model\n",
    "        params_dict = zip(model.state_dict().keys(), parameters)\n",
    "        state_dict = OrderedDict({k: torch.Tensor(v) for k, v in params_dict})\n",
    "        model.load_state_dict(state_dict, strict=True)\n",
    "\n",
    "        # call test (evaluate model as in centralised setting)\n",
    "        loss, accuracy = test(model, testloader, device)\n",
    "        return loss, {\"accuracy\": accuracy}\n",
    "\n",
    "    return evaluate_fn"
   ]
  },
  {
   "attachments": {},
   "cell_type": "markdown",
   "metadata": {},
   "source": [
    "With the above defined, we just need to wrap it all up in a `ServerApp` as we did earlier but this time using the `FedAvgCustom` that we just defined."
   ]
  },
  {
   "cell_type": "code",
   "execution_count": 37,
   "metadata": {
    "colab": {
     "base_uri": "https://localhost:8080/"
    },
    "outputId": "9ad8dcea-8004-4c6e-a025-e168da636c88"
   },
   "outputs": [],
   "source": [
    "from flwr.server import ServerApp, ServerConfig\n",
    "\n",
    "\n",
    "def server_fn(context: Context):\n",
    "\n",
    "    # instantiate the model\n",
    "    model = Net(num_classes=10)\n",
    "    ndarrays = get_params(model)\n",
    "    # Convert model parameters to flwr.common.Parameters\n",
    "    global_model_init = ndarrays_to_parameters(ndarrays)\n",
    "\n",
    "    # Define the strategy\n",
    "    strategy = FedAvgCustom(\n",
    "        file_name=\"results_fedavgcustom\",\n",
    "        num_rounds=num_rounds,\n",
    "        fraction_fit=0.1,  # 10% clients sampled each round to do fit()\n",
    "        fraction_evaluate=0.25,  # 25% clients sample each round to do evaluate()\n",
    "        evaluate_metrics_aggregation_fn=weighted_average,  # callback defined earlier\n",
    "        initial_parameters=global_model_init,  # initialised global model\n",
    "        evaluate_fn=get_evaluate_fn(\n",
    "            testloader\n",
    "        ),  # gloabl evaluation (here we can pass the same testset as used in centralised)\n",
    "    )\n",
    "\n",
    "    # Construct ServerConfig\n",
    "    config = ServerConfig(num_rounds=num_rounds)\n",
    "\n",
    "    # Wrap everything into a `ServerAppComponents` object\n",
    "    return ServerAppComponents(strategy=strategy, config=config)\n",
    "\n",
    "\n",
    "# Create your ServerApp\n",
    "server_app = ServerApp(server_fn=server_fn)"
   ]
  },
  {
   "cell_type": "markdown",
   "metadata": {},
   "source": [
    "All that is left is to launch the simulation. Note a plot will be displayed at the end and a `.json` with the results will be saved to the current directory."
   ]
  },
  {
   "cell_type": "code",
   "execution_count": 38,
   "metadata": {},
   "outputs": [
    {
     "name": "stderr",
     "output_type": "stream",
     "text": [
      "\u001b[92mINFO \u001b[0m:      Starting Flower ServerApp, config: num_rounds=5, no round_timeout\n",
      "\u001b[92mINFO \u001b[0m:      \n",
      "\u001b[92mINFO \u001b[0m:      [INIT]\n",
      "\u001b[92mINFO \u001b[0m:      Using initial global parameters provided by strategy\n",
      "\u001b[92mINFO \u001b[0m:      Starting evaluation of initial global parameters\n",
      "\u001b[92mINFO \u001b[0m:      Evaluation returned no results (`None`)\n",
      "\u001b[92mINFO \u001b[0m:      \n",
      "\u001b[92mINFO \u001b[0m:      [ROUND 1]\n",
      "\u001b[92mINFO \u001b[0m:      configure_fit: strategy sampled 10 clients (out of 100)\n",
      "\u001b[33m(raylet)\u001b[0m /Users/creamy/Research/.venv/lib/python3.9/site-packages/urllib3/__init__.py:35: NotOpenSSLWarning: urllib3 v2 only supports OpenSSL 1.1.1+, currently the 'ssl' module is compiled with 'LibreSSL 2.8.3'. See: https://github.com/urllib3/urllib3/issues/3020\n",
      "\u001b[33m(raylet)\u001b[0m   warnings.warn(\n",
      "\u001b[92mINFO \u001b[0m:      aggregate_fit: received 10 results and 0 failures\n",
      "\u001b[93mWARNING \u001b[0m:   No fit_metrics_aggregation_fn provided\n",
      "\u001b[92mINFO \u001b[0m:      configure_evaluate: strategy sampled 25 clients (out of 100)\n",
      "\u001b[92mINFO \u001b[0m:      aggregate_evaluate: received 25 results and 0 failures\n",
      "\u001b[92mINFO \u001b[0m:      \n",
      "\u001b[92mINFO \u001b[0m:      [ROUND 2]\n",
      "\u001b[92mINFO \u001b[0m:      configure_fit: strategy sampled 10 clients (out of 100)\n",
      "\u001b[92mINFO \u001b[0m:      aggregate_fit: received 10 results and 0 failures\n",
      "\u001b[92mINFO \u001b[0m:      configure_evaluate: strategy sampled 25 clients (out of 100)\n",
      "\u001b[92mINFO \u001b[0m:      aggregate_evaluate: received 25 results and 0 failures\n",
      "\u001b[92mINFO \u001b[0m:      \n",
      "\u001b[92mINFO \u001b[0m:      [ROUND 3]\n",
      "\u001b[92mINFO \u001b[0m:      configure_fit: strategy sampled 10 clients (out of 100)\n",
      "\u001b[92mINFO \u001b[0m:      aggregate_fit: received 10 results and 0 failures\n",
      "\u001b[92mINFO \u001b[0m:      configure_evaluate: strategy sampled 25 clients (out of 100)\n",
      "\u001b[92mINFO \u001b[0m:      aggregate_evaluate: received 25 results and 0 failures\n",
      "\u001b[92mINFO \u001b[0m:      \n",
      "\u001b[92mINFO \u001b[0m:      [ROUND 4]\n",
      "\u001b[92mINFO \u001b[0m:      configure_fit: strategy sampled 10 clients (out of 100)\n",
      "\u001b[92mINFO \u001b[0m:      aggregate_fit: received 10 results and 0 failures\n",
      "\u001b[92mINFO \u001b[0m:      configure_evaluate: strategy sampled 25 clients (out of 100)\n",
      "\u001b[92mINFO \u001b[0m:      aggregate_evaluate: received 25 results and 0 failures\n",
      "\u001b[92mINFO \u001b[0m:      \n",
      "\u001b[92mINFO \u001b[0m:      [ROUND 5]\n",
      "\u001b[92mINFO \u001b[0m:      configure_fit: strategy sampled 10 clients (out of 100)\n",
      "\u001b[92mINFO \u001b[0m:      aggregate_fit: received 10 results and 0 failures\n",
      "\u001b[92mINFO \u001b[0m:      configure_evaluate: strategy sampled 25 clients (out of 100)\n",
      "\u001b[92mINFO \u001b[0m:      aggregate_evaluate: received 25 results and 0 failures\n",
      "\u001b[92mINFO \u001b[0m:      \n",
      "\u001b[92mINFO \u001b[0m:      [SUMMARY]\n",
      "\u001b[92mINFO \u001b[0m:      Run finished 5 round(s) in 15.42s\n",
      "\u001b[92mINFO \u001b[0m:      \tHistory (loss, distributed):\n",
      "\u001b[92mINFO \u001b[0m:      \t\tround 1: 4.573920974731445\n",
      "\u001b[92mINFO \u001b[0m:      \t\tround 2: 4.518921585083008\n",
      "\u001b[92mINFO \u001b[0m:      \t\tround 3: 4.372902936935425\n",
      "\u001b[92mINFO \u001b[0m:      \t\tround 4: 3.6638979482650758\n",
      "\u001b[92mINFO \u001b[0m:      \t\tround 5: 1.9933353066444397\n",
      "\u001b[92mINFO \u001b[0m:      \tHistory (metrics, distributed, evaluate):\n",
      "\u001b[92mINFO \u001b[0m:      \t{'accuracy': [(1, 0.18),\n",
      "\u001b[92mINFO \u001b[0m:      \t              (2, 0.26666666666666666),\n",
      "\u001b[92mINFO \u001b[0m:      \t              (3, 0.4813333333333334),\n",
      "\u001b[92mINFO \u001b[0m:      \t              (4, 0.6506666666666665),\n",
      "\u001b[92mINFO \u001b[0m:      \t              (5, 0.7186666666666666)]}\n",
      "\u001b[92mINFO \u001b[0m:      \n",
      "\u001b[33m(raylet)\u001b[0m /Users/creamy/Research/.venv/lib/python3.9/site-packages/urllib3/__init__.py:35: NotOpenSSLWarning: urllib3 v2 only supports OpenSSL 1.1.1+, currently the 'ssl' module is compiled with 'LibreSSL 2.8.3'. See: https://github.com/urllib3/urllib3/issues/3020\u001b[32m [repeated 7x across cluster]\u001b[0m\n",
      "\u001b[33m(raylet)\u001b[0m   warnings.warn(\u001b[32m [repeated 7x across cluster]\u001b[0m\n"
     ]
    },
    {
     "data": {
      "image/png": "[encoded data removed]",
      "text/plain": [
       "<Figure size 640x480 with 1 Axes>"
      ]
     },
     "metadata": {},
     "output_type": "display_data"
    }
   ],
   "source": [
    "run_simulation(\n",
    "    server_app=server_app, client_app=client_app, num_supernodes=NUM_PARTITIONS\n",
    ")"
   ]
  },
  {
   "cell_type": "markdown",
   "metadata": {},
   "source": [
    "## What's next?\n",
    "\n",
    "Well, if you enjoyed this content, consider giving us a ⭐️ on GitHub -> https://github.com/adap/flower\n",
    "\n",
    "* **[DOCS]** How about running your Flower clients on the GPU? find out how to do it in the [Flower Simulation Documentation](https://flower.ai/docs/framework/how-to-run-simulations.html)\n",
    "\n",
    "* Check the quickstart tutorials in https://flower.ai/docs/framework/, for example:\n",
    "    * [Quickstart PyTorch](https://flower.ai/docs/framework/tutorial-quickstart-pytorch.html)\n",
    "    * [Quickstart TensorFlow](https://flower.ai/docs/framework/tutorial-quickstart-tensorflow.html)\n",
    "    * [Quickstart JAX](https://flower.ai/docs/framework/tutorial-quickstart-jax.html)\n",
    "\n",
    "* Most examples in the Flower Flower GitHub can run in simulation. These are some:\n",
    "\n",
    "    * [Advanced PyTorch](https://github.com/adap/flower/tree/main/examples/advanced-pytorch)\n",
    "    * [Finetuning a ViT](https://github.com/adap/flower/tree/main/examples/flowertune-vit)\n",
    "    * [Quickstart with 🤗 Huggingface](https://github.com/adap/flower/tree/main/examples/quickstart-huggingface)\n",
    "    * [Quickstart with XGBoost](https://github.com/adap/flower/tree/main/examples/xgboost-quickstart)\n",
    "    * [Quickstart with MLX](https://github.com/adap/flower/tree/main/examples/quickstart-mlx)\n",
    "\n",
    "\n",
    "* **[DOCS]** All Flower examples: https://flower.ai/docs/examples/\n",
    "\n",
    "* **[VIDEO]** Our Youtube channel: https://www.youtube.com/@flowerlabs\n",
    "\n",
    "Don't forget to join our Slack channel: https://flower.ai/join-slack/\n"
   ]
  },
  {
   "cell_type": "markdown",
   "metadata": {},
   "source": []
  }
 ],
 "metadata": {
  "colab": {
   "provenance": [],
   "toc_visible": true
  },
  "kernelspec": {
   "display_name": ".venv",
   "language": "python",
   "name": "python3"
  },
  "language_info": {
   "codemirror_mode": {
    "name": "ipython",
    "version": 3
   },
   "file_extension": ".py",
   "mimetype": "text/x-python",
   "name": "python",
   "nbconvert_exporter": "python",
   "pygments_lexer": "ipython3",
   "version": "3.9.6"
  }
 },
 "nbformat": 4,
 "nbformat_minor": 0
}
